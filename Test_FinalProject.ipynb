{
 "cells": [
  {
   "cell_type": "markdown",
   "metadata": {},
   "source": [
    "<img align=\"center\" src=\"http://emba.eduego.com/Uploads/Ueditor/image/20180130/1517298966389236.jpg\">\n",
    "<h1 align=\"center\" style=\"margin-top:10px\">Conditional Monte-Carlo of OUSV and GARCH-diffusions</h1>\n",
    "<h2 align=\"center\" style=\"margin-top:20px\">Team：Li Panyu, Li Linxiong</h2>\n",
    "<br>"
   ]
  },
  {
   "cell_type": "markdown",
   "metadata": {},
   "source": [
    "# 1. The Ornstein-Uhlenbeck stochastic volatility (OUSV) model:"
   ]
  },
  {
   "cell_type": "markdown",
   "metadata": {},
   "source": [
    "The ___Ornstein–Uhlenbeck process___ is an example of a ___Gaussian process___ that has a bounded variance and admits a stationary probability distribution, in contrast to the Wiener process; the difference between the two is in their \"drift\" term. For the Wiener process the drift term is constant, whereas for the Ornstein–Uhlenbeck process it is dependent on the current value of the process: if the current value of the process is less than the (long-term) mean, the drift will be positive; if the current value of the process is greater than the (long-term) mean, the drift will be negative. In other words, the mean acts as an equilibrium level for the process. This gives the process its informative name, \"___mean-reverting___\" "
   ]
  },
  {
   "cell_type": "markdown",
   "metadata": {},
   "source": [
    "#### **Underline price process-following GBM**\n",
    "\n",
    "$$\\frac{dF_t}{F_t}=\\sigma_t(\\rho\\,dB_t + \\rho_*dX_t) \\tag{1}$$\n",
    "\n",
    "#### **Volatility process-following OUSV**\n",
    "$$d\\sigma_t=\\kappa\\,(\\theta-\\sigma_t)\\,dt+\\xi\\,dB_t \\tag{2}$$  \n",
    "**Solution:**\n",
    "$$\\sigma_t=e^{-\\kappa t}\\sigma_0+\\theta(1-e^{-\\kappa t})+\\frac{\\sigma e^{-\\kappa t}}{\\sqrt{2\\kappa}}B_{e^{-\\kappa t}\\, -1}\\tag{3}$$\n",
    "$$B_{e^{-\\kappa t}\\, -1}-B_{e^{-\\kappa s}\\, -1}\\sim N(0, e^{-2\\kappa t}-e^{-2\\kappa s})\\tag{4}$$  \n",
    "**Mathematical properties:**\n",
    "$$E(\\sigma_t)=\\sigma_0 e^{-\\kappa t}+\\theta(1-e^{-\\kappa t}) \\tag{5}$$  \n",
    "$$var(\\sigma_T) = \\frac{\\xi^2}{2\\kappa}(1-e^{-2\\kappa t}) \\tag{6}$$\n",
    "$$cov(\\sigma_s, \\sigma_t)=\\frac{\\xi^2}{2\\kappa}(e^{-\\kappa|t-s|}-e^{-\\kappa(t+s)}) \\tag{7}$$"
   ]
  },
  {
   "cell_type": "markdown",
   "metadata": {},
   "source": [
    "#### **OUSV conditional MC steps:**\n",
    "\n",
    "|**Tags**| **Steps** | **Formulas of algorithm** |\n",
    "|----| - - - - | - - - - |\n",
    "|**1**| Simulate BM increment and cumsum | $$B_{e^{-\\kappa t}\\, -1}-B_{e^{-\\kappa s}\\, -1}\\sim N(0, e^{-2\\kappa t}-e^{-2\\kappa s})$$ |\n",
    "|**2**| Simulate volatility path | $$\\sigma_t=e^{-\\kappa t}\\sigma_0+\\theta(1-e^{-\\kappa t})+\\frac{\\sigma e^{-\\kappa t}}{\\sqrt{2\\kappa}}B_{e^{-\\kappa t}\\, -1}$$ |\n",
    "|**3**| Calculate forward conditional spot and volatility | $$F_T=F_0 e^{\\frac{\\rho}{\\xi}({\\sigma_T}^2-{\\sigma_0}^2)-\\frac{\\rho\\xi}{2}T-\\frac{\\rho\\kappa\\theta}{\\xi}U_T+(\\frac{\\rho\\kappa}{\\xi}-\\frac{\\rho^2}{2})V_T}\\,\\,,\\,\\,\\sigma_{BS} = \\rho_*\\sqrt{V_T/T}$$|\n",
    "|**4**| Use BSM to calculate the option price |$$C_T=F_0N(d_1)-KN(d_2),d_{1,2}=\\frac{log(F_0/K)}{\\sigma\\sqrt{T}}\\pm\\frac{1}{2}\\sigma\\sqrt{T}$$ |"
   ]
  },
  {
   "cell_type": "markdown",
   "metadata": {},
   "source": [
    "where:  \n",
    "$V_T=\\int_0^T{\\sigma_t}^2dt, U_T=\\int_0^T\\sigma_tdt$  \n",
    "$F_t$ is the forward asset price,  \n",
    "$\\kappa$ is the speed of mean reversion,  \n",
    "$\\theta$ is the long-term volatility,  \n",
    "$\\xi$ is the volatility of the volatility $\\sigma_t$,  \n",
    "$\\rho$ is the instantaneous correlation between asset price and volatility, $\\rho_*=\\sqrt{1-\\rho^2}$   \n",
    "$B_t$ and $X_t$ are two independent Brownian motions  "
   ]
  },
  {
   "cell_type": "code",
   "execution_count": 1,
   "metadata": {},
   "outputs": [],
   "source": [
    "%load_ext autoreload\n",
    "%autoreload 2"
   ]
  },
  {
   "cell_type": "code",
   "execution_count": 2,
   "metadata": {},
   "outputs": [],
   "source": [
    "import sys\n",
    "import numpy as np\n",
    "import pandas as pd\n",
    "import matplotlib.pyplot as plt\n",
    "sys.path.insert(sys.path.index('') + 1, 'E:\\PHBS\\8.ASP\\PyFENG')\n",
    "# sys.path.insert(sys.path.index('') + 1, 'C:/Users/cherr/Documents/GitHub/PyFeng')\n",
    "import pyfeng as pf"
   ]
  },
  {
   "cell_type": "markdown",
   "metadata": {},
   "source": [
    "# OUSV TEST"
   ]
  },
  {
   "cell_type": "markdown",
   "metadata": {},
   "source": [
    "## 1. Conditional MC"
   ]
  },
  {
   "cell_type": "code",
   "execution_count": 3,
   "metadata": {},
   "outputs": [],
   "source": [
    "strike = np.array([100])\n",
    "spot = 100\n",
    "texp = np.array([1, 5, 10])\n",
    "ousv = pf.OusvCondMC(sigma = 0.2, mr=4, vov = 0.1, rho=-0.5, intr=0.09531)\n",
    "ousv.set_mc_params(dt=0.01, n_path=10000, rn_seed=123456, antithetic=False)"
   ]
  },
  {
   "cell_type": "code",
   "execution_count": 4,
   "metadata": {
    "scrolled": true
   },
   "outputs": [
    {
     "data": {
      "text/html": [
       "<div>\n",
       "<style scoped>\n",
       "    .dataframe tbody tr th:only-of-type {\n",
       "        vertical-align: middle;\n",
       "    }\n",
       "\n",
       "    .dataframe tbody tr th {\n",
       "        vertical-align: top;\n",
       "    }\n",
       "\n",
       "    .dataframe thead tr th {\n",
       "        text-align: left;\n",
       "    }\n",
       "</style>\n",
       "<table border=\"1\" class=\"dataframe\">\n",
       "  <thead>\n",
       "    <tr>\n",
       "      <th></th>\n",
       "      <th>1</th>\n",
       "      <th>5</th>\n",
       "      <th>10</th>\n",
       "    </tr>\n",
       "  </thead>\n",
       "  <tbody>\n",
       "    <tr>\n",
       "      <th>100</th>\n",
       "      <td>13.205312</td>\n",
       "      <td>40.87515</td>\n",
       "      <td>62.806532</td>\n",
       "    </tr>\n",
       "  </tbody>\n",
       "</table>\n",
       "</div>"
      ],
      "text/plain": [
       "            1         5          10\n",
       "100  13.205312  40.87515  62.806532"
      ]
     },
     "execution_count": 4,
     "metadata": {},
     "output_type": "execute_result"
    }
   ],
   "source": [
    "p = ousv.price(strike, spot, texp)\n",
    "pd.DataFrame(data=p,columns=[texp],index=strike)"
   ]
  },
  {
   "cell_type": "code",
   "execution_count": 5,
   "metadata": {},
   "outputs": [
    {
     "name": "stdout",
     "output_type": "stream",
     "text": [
      "{'sigma': 0.2, 'intr': 0.09531, 'divr': 0.0, 'is_fwd': False, 'vov': 0.1, 'rho': -0.5, 'mr': 4, 'theta': 0.2, 'n_path': 10000, 'dt': 0.01, 'rn_seed': 123456, 'antithetic': False, 'rng': Generator(PCG64) at 0x1B874428040}\n"
     ]
    }
   ],
   "source": [
    "print(ousv.__dict__)"
   ]
  },
  {
   "cell_type": "code",
   "execution_count": 6,
   "metadata": {},
   "outputs": [],
   "source": [
    "strike = np.array([90, 100, 110])\n",
    "spot = 100\n",
    "texp = 1\n",
    "ousv = pf.OusvCondMC(sigma = 0.25, mr=8, vov = 0.3, rho=-0.6, intr=0.09531)\n",
    "ousv.set_mc_params(dt=0.01, n_path=10000, rn_seed=123456)"
   ]
  },
  {
   "cell_type": "code",
   "execution_count": 7,
   "metadata": {},
   "outputs": [
    {
     "data": {
      "text/html": [
       "<div>\n",
       "<style scoped>\n",
       "    .dataframe tbody tr th:only-of-type {\n",
       "        vertical-align: middle;\n",
       "    }\n",
       "\n",
       "    .dataframe tbody tr th {\n",
       "        vertical-align: top;\n",
       "    }\n",
       "\n",
       "    .dataframe thead th {\n",
       "        text-align: right;\n",
       "    }\n",
       "</style>\n",
       "<table border=\"1\" class=\"dataframe\">\n",
       "  <thead>\n",
       "    <tr style=\"text-align: right;\">\n",
       "      <th></th>\n",
       "      <th>1</th>\n",
       "    </tr>\n",
       "  </thead>\n",
       "  <tbody>\n",
       "    <tr>\n",
       "      <th>90</th>\n",
       "      <td>21.500997</td>\n",
       "    </tr>\n",
       "    <tr>\n",
       "      <th>100</th>\n",
       "      <td>15.245897</td>\n",
       "    </tr>\n",
       "    <tr>\n",
       "      <th>110</th>\n",
       "      <td>10.242082</td>\n",
       "    </tr>\n",
       "  </tbody>\n",
       "</table>\n",
       "</div>"
      ],
      "text/plain": [
       "             1\n",
       "90   21.500997\n",
       "100  15.245897\n",
       "110  10.242082"
      ]
     },
     "execution_count": 7,
     "metadata": {},
     "output_type": "execute_result"
    }
   ],
   "source": [
    "p = ousv.price(strike, spot, texp)\n",
    "pd.DataFrame(data=p,columns=[texp],index=strike)"
   ]
  },
  {
   "cell_type": "code",
   "execution_count": 8,
   "metadata": {},
   "outputs": [],
   "source": [
    "strike = np.linspace(75,125,num=10)\n",
    "spot = 100\n",
    "texp = 1\n",
    "ousv = pf.OusvCondMC(sigma=0.2, vov=0.5, rho=0.7, mr=2, theta=1)\n",
    "ousv.set_mc_params(dt=0.01, n_path=10000, rn_seed=123456)"
   ]
  },
  {
   "cell_type": "code",
   "execution_count": 9,
   "metadata": {},
   "outputs": [
    {
     "data": {
      "text/html": [
       "<div>\n",
       "<style scoped>\n",
       "    .dataframe tbody tr th:only-of-type {\n",
       "        vertical-align: middle;\n",
       "    }\n",
       "\n",
       "    .dataframe tbody tr th {\n",
       "        vertical-align: top;\n",
       "    }\n",
       "\n",
       "    .dataframe thead th {\n",
       "        text-align: right;\n",
       "    }\n",
       "</style>\n",
       "<table border=\"1\" class=\"dataframe\">\n",
       "  <thead>\n",
       "    <tr style=\"text-align: right;\">\n",
       "      <th></th>\n",
       "      <th>75</th>\n",
       "      <th>81</th>\n",
       "      <th>86</th>\n",
       "      <th>92</th>\n",
       "      <th>97</th>\n",
       "      <th>103</th>\n",
       "      <th>108</th>\n",
       "      <th>114</th>\n",
       "      <th>119</th>\n",
       "      <th>125</th>\n",
       "    </tr>\n",
       "  </thead>\n",
       "  <tbody>\n",
       "    <tr>\n",
       "      <th>1</th>\n",
       "      <td>38.613285</td>\n",
       "      <td>36.104002</td>\n",
       "      <td>33.83193</td>\n",
       "      <td>31.770341</td>\n",
       "      <td>29.895384</td>\n",
       "      <td>28.186005</td>\n",
       "      <td>26.623731</td>\n",
       "      <td>25.192397</td>\n",
       "      <td>23.877873</td>\n",
       "      <td>22.667801</td>\n",
       "    </tr>\n",
       "  </tbody>\n",
       "</table>\n",
       "</div>"
      ],
      "text/plain": [
       "         75         81        86         92         97         103        108  \\\n",
       "1  38.613285  36.104002  33.83193  31.770341  29.895384  28.186005  26.623731   \n",
       "\n",
       "         114        119        125  \n",
       "1  25.192397  23.877873  22.667801  "
      ]
     },
     "execution_count": 9,
     "metadata": {},
     "output_type": "execute_result"
    }
   ],
   "source": [
    "p = ousv.price(strike, spot, texp)\n",
    "pd.DataFrame(data=p,columns=[texp],index=np.int64(np.around(strike))).T"
   ]
  },
  {
   "cell_type": "markdown",
   "metadata": {},
   "source": [
    "## 2. Schobel & Zhu (1998)'s approximation exact"
   ]
  },
  {
   "cell_type": "code",
   "execution_count": 10,
   "metadata": {},
   "outputs": [
    {
     "data": {
      "text/html": [
       "<div>\n",
       "<style scoped>\n",
       "    .dataframe tbody tr th:only-of-type {\n",
       "        vertical-align: middle;\n",
       "    }\n",
       "\n",
       "    .dataframe tbody tr th {\n",
       "        vertical-align: top;\n",
       "    }\n",
       "\n",
       "    .dataframe thead th {\n",
       "        text-align: right;\n",
       "    }\n",
       "</style>\n",
       "<table border=\"1\" class=\"dataframe\">\n",
       "  <thead>\n",
       "    <tr style=\"text-align: right;\">\n",
       "      <th></th>\n",
       "      <th>1</th>\n",
       "      <th>5</th>\n",
       "      <th>10</th>\n",
       "    </tr>\n",
       "  </thead>\n",
       "  <tbody>\n",
       "    <tr>\n",
       "      <th>100</th>\n",
       "      <td>13.170659</td>\n",
       "      <td>40.724715</td>\n",
       "      <td>62.694576</td>\n",
       "    </tr>\n",
       "  </tbody>\n",
       "</table>\n",
       "</div>"
      ],
      "text/plain": [
       "            1          5          10\n",
       "100  13.170659  40.724715  62.694576"
      ]
     },
     "execution_count": 10,
     "metadata": {},
     "output_type": "execute_result"
    }
   ],
   "source": [
    "model = pf.OusvIft(sigma=0.2, mr=4, vov=0.1, rho=-0.5, intr=0.09531)\n",
    "p = model.price(100, 100, texp=np.array([1, 5, 10]))\n",
    "pd.DataFrame(data=p[:,None].T,columns=np.int64(np.around(np.array([1, 5, 10]))),index=[100])"
   ]
  },
  {
   "cell_type": "code",
   "execution_count": 11,
   "metadata": {},
   "outputs": [
    {
     "data": {
      "text/html": [
       "<div>\n",
       "<style scoped>\n",
       "    .dataframe tbody tr th:only-of-type {\n",
       "        vertical-align: middle;\n",
       "    }\n",
       "\n",
       "    .dataframe tbody tr th {\n",
       "        vertical-align: top;\n",
       "    }\n",
       "\n",
       "    .dataframe thead th {\n",
       "        text-align: right;\n",
       "    }\n",
       "</style>\n",
       "<table border=\"1\" class=\"dataframe\">\n",
       "  <thead>\n",
       "    <tr style=\"text-align: right;\">\n",
       "      <th></th>\n",
       "      <th>1</th>\n",
       "    </tr>\n",
       "  </thead>\n",
       "  <tbody>\n",
       "    <tr>\n",
       "      <th>90</th>\n",
       "      <td>21.416243</td>\n",
       "    </tr>\n",
       "    <tr>\n",
       "      <th>100</th>\n",
       "      <td>15.165753</td>\n",
       "    </tr>\n",
       "    <tr>\n",
       "      <th>110</th>\n",
       "      <td>10.171460</td>\n",
       "    </tr>\n",
       "  </tbody>\n",
       "</table>\n",
       "</div>"
      ],
      "text/plain": [
       "             1\n",
       "90   21.416243\n",
       "100  15.165753\n",
       "110  10.171460"
      ]
     },
     "execution_count": 11,
     "metadata": {},
     "output_type": "execute_result"
    }
   ],
   "source": [
    "model = pf.OusvIft(0.25, mr=8, vov=0.3, rho=-0.6, intr=0.09531)\n",
    "texp = 1\n",
    "strike = np.array([90, 100, 110])\n",
    "p = model.price(strike = strike, spot = 100, texp=texp)\n",
    "pd.DataFrame(data=p[:,None],columns=[texp],index=strike)"
   ]
  },
  {
   "cell_type": "code",
   "execution_count": 12,
   "metadata": {},
   "outputs": [],
   "source": [
    "strike = np.linspace(75,125,num=10)\n",
    "spot = 100\n",
    "texp = 1\n",
    "ousv_ift = pf.OusvIft(sigma=0.2, mr=2, vov=0.5, rho=0.7, theta=1)"
   ]
  },
  {
   "cell_type": "code",
   "execution_count": 13,
   "metadata": {},
   "outputs": [
    {
     "data": {
      "text/html": [
       "<div>\n",
       "<style scoped>\n",
       "    .dataframe tbody tr th:only-of-type {\n",
       "        vertical-align: middle;\n",
       "    }\n",
       "\n",
       "    .dataframe tbody tr th {\n",
       "        vertical-align: top;\n",
       "    }\n",
       "\n",
       "    .dataframe thead th {\n",
       "        text-align: right;\n",
       "    }\n",
       "</style>\n",
       "<table border=\"1\" class=\"dataframe\">\n",
       "  <thead>\n",
       "    <tr style=\"text-align: right;\">\n",
       "      <th></th>\n",
       "      <th>75</th>\n",
       "      <th>81</th>\n",
       "      <th>86</th>\n",
       "      <th>92</th>\n",
       "      <th>97</th>\n",
       "      <th>103</th>\n",
       "      <th>108</th>\n",
       "      <th>114</th>\n",
       "      <th>119</th>\n",
       "      <th>125</th>\n",
       "    </tr>\n",
       "  </thead>\n",
       "  <tbody>\n",
       "    <tr>\n",
       "      <th>1</th>\n",
       "      <td>38.109676</td>\n",
       "      <td>35.598346</td>\n",
       "      <td>33.32456</td>\n",
       "      <td>31.26165</td>\n",
       "      <td>29.385771</td>\n",
       "      <td>27.675852</td>\n",
       "      <td>26.113393</td>\n",
       "      <td>24.682197</td>\n",
       "      <td>23.368102</td>\n",
       "      <td>22.158716</td>\n",
       "    </tr>\n",
       "  </tbody>\n",
       "</table>\n",
       "</div>"
      ],
      "text/plain": [
       "         75         81        86        92         97         103        108  \\\n",
       "1  38.109676  35.598346  33.32456  31.26165  29.385771  27.675852  26.113393   \n",
       "\n",
       "         114        119        125  \n",
       "1  24.682197  23.368102  22.158716  "
      ]
     },
     "execution_count": 13,
     "metadata": {},
     "output_type": "execute_result"
    }
   ],
   "source": [
    "p = ousv_ift.price(strike, spot, texp)\n",
    "pd.DataFrame(data=p,columns=[texp],index=np.int64(np.around(strike))).T"
   ]
  },
  {
   "cell_type": "markdown",
   "metadata": {},
   "source": [
    "# Garch TEST"
   ]
  },
  {
   "cell_type": "code",
   "execution_count": 14,
   "metadata": {},
   "outputs": [],
   "source": [
    "c_1=0.16\n",
    "c_2=18\n",
    "c_3=1.8\n",
    "\n",
    "rho=0# correlation between volatility and asset price\n",
    "mr=c_2\n",
    "theta_ratio=1.0\n",
    "vov=c_3\n",
    "sigma=np.sqrt(c_1/c_2) # start-up volatility\n",
    "strike=np.arange(90,115,5) # strike price\n",
    "spot=100 # spot asset price\n",
    "texp=1/252*np.array([30,60,90,120,180,252,504]) # time to maturity\n",
    "\n",
    "garch = pf.GarchCondMC(sigma=sigma, vov=vov, rho=rho, mr=mr, theta=c_1/c_2)\n",
    "garch.set_mc_params(dt=0.01, n_path=100000,rn_seed=123456)"
   ]
  },
  {
   "cell_type": "code",
   "execution_count": 15,
   "metadata": {},
   "outputs": [
    {
     "data": {
      "text/html": [
       "<div>\n",
       "<style scoped>\n",
       "    .dataframe tbody tr th:only-of-type {\n",
       "        vertical-align: middle;\n",
       "    }\n",
       "\n",
       "    .dataframe tbody tr th {\n",
       "        vertical-align: top;\n",
       "    }\n",
       "\n",
       "    .dataframe thead th {\n",
       "        text-align: right;\n",
       "    }\n",
       "</style>\n",
       "<table border=\"1\" class=\"dataframe\">\n",
       "  <thead>\n",
       "    <tr style=\"text-align: right;\">\n",
       "      <th></th>\n",
       "      <th>30</th>\n",
       "      <th>60</th>\n",
       "      <th>90</th>\n",
       "      <th>120</th>\n",
       "      <th>180</th>\n",
       "      <th>252</th>\n",
       "      <th>504</th>\n",
       "    </tr>\n",
       "  </thead>\n",
       "  <tbody>\n",
       "    <tr>\n",
       "      <th>90</th>\n",
       "      <td>0.000872</td>\n",
       "      <td>0.018887</td>\n",
       "      <td>0.068022</td>\n",
       "      <td>0.141990</td>\n",
       "      <td>0.334530</td>\n",
       "      <td>0.600841</td>\n",
       "      <td>1.559487</td>\n",
       "    </tr>\n",
       "    <tr>\n",
       "      <th>95</th>\n",
       "      <td>0.081166</td>\n",
       "      <td>0.302371</td>\n",
       "      <td>0.546020</td>\n",
       "      <td>0.783262</td>\n",
       "      <td>1.226298</td>\n",
       "      <td>1.705188</td>\n",
       "      <td>3.078051</td>\n",
       "    </tr>\n",
       "    <tr>\n",
       "      <th>100</th>\n",
       "      <td>1.294761</td>\n",
       "      <td>1.834119</td>\n",
       "      <td>2.250046</td>\n",
       "      <td>2.599173</td>\n",
       "      <td>3.185366</td>\n",
       "      <td>3.770786</td>\n",
       "      <td>5.334092</td>\n",
       "    </tr>\n",
       "    <tr>\n",
       "      <th>105</th>\n",
       "      <td>5.101202</td>\n",
       "      <td>5.353158</td>\n",
       "      <td>5.621918</td>\n",
       "      <td>5.880011</td>\n",
       "      <td>6.357161</td>\n",
       "      <td>6.869082</td>\n",
       "      <td>8.326759</td>\n",
       "    </tr>\n",
       "    <tr>\n",
       "      <th>110</th>\n",
       "      <td>10.002474</td>\n",
       "      <td>10.037193</td>\n",
       "      <td>10.115542</td>\n",
       "      <td>10.222448</td>\n",
       "      <td>10.479928</td>\n",
       "      <td>10.816128</td>\n",
       "      <td>11.962609</td>\n",
       "    </tr>\n",
       "  </tbody>\n",
       "</table>\n",
       "</div>"
      ],
      "text/plain": [
       "           30         60         90         120        180        252  \\\n",
       "90    0.000872   0.018887   0.068022   0.141990   0.334530   0.600841   \n",
       "95    0.081166   0.302371   0.546020   0.783262   1.226298   1.705188   \n",
       "100   1.294761   1.834119   2.250046   2.599173   3.185366   3.770786   \n",
       "105   5.101202   5.353158   5.621918   5.880011   6.357161   6.869082   \n",
       "110  10.002474  10.037193  10.115542  10.222448  10.479928  10.816128   \n",
       "\n",
       "           504  \n",
       "90    1.559487  \n",
       "95    3.078051  \n",
       "100   5.334092  \n",
       "105   8.326759  \n",
       "110  11.962609  "
      ]
     },
     "execution_count": 15,
     "metadata": {},
     "output_type": "execute_result"
    }
   ],
   "source": [
    "p = garch.price(strike, spot, texp, cp=-1)\n",
    "pd.DataFrame(data=p,columns=np.int64(np.around(texp*252)),index=strike)"
   ]
  },
  {
   "cell_type": "code",
   "execution_count": 16,
   "metadata": {},
   "outputs": [],
   "source": [
    "c_1=0.53\n",
    "c_2=29.23\n",
    "c_3=3.65\n",
    "\n",
    "rho=0 # correlation between volatility and asset price\n",
    "mr=c_2\n",
    "vov=c_3\n",
    "theta_ratio=1.0\n",
    "sigma=np.sqrt(c_1/c_2) # start-up volatility\n",
    "intr=0.0 # risk-free interest rate\n",
    "divr=0.0 # dividend rate\n",
    "strike=np.arange(90,115,5) # strike price\n",
    "spot=100 # spot asset price\n",
    "texp=1/252*np.array([30,60,90,120,180,252,504]) # time to maturity\n",
    "\n",
    "garch = pf.GarchCondMC(sigma=sigma, vov=vov, rho=rho, mr=mr, theta=c_1/c_2)\n",
    "garch.set_mc_params(dt=0.01, n_path=100000,rn_seed=123456)"
   ]
  },
  {
   "cell_type": "code",
   "execution_count": 17,
   "metadata": {},
   "outputs": [
    {
     "data": {
      "text/html": [
       "<div>\n",
       "<style scoped>\n",
       "    .dataframe tbody tr th:only-of-type {\n",
       "        vertical-align: middle;\n",
       "    }\n",
       "\n",
       "    .dataframe tbody tr th {\n",
       "        vertical-align: top;\n",
       "    }\n",
       "\n",
       "    .dataframe thead th {\n",
       "        text-align: right;\n",
       "    }\n",
       "</style>\n",
       "<table border=\"1\" class=\"dataframe\">\n",
       "  <thead>\n",
       "    <tr style=\"text-align: right;\">\n",
       "      <th></th>\n",
       "      <th>30</th>\n",
       "      <th>60</th>\n",
       "      <th>90</th>\n",
       "      <th>120</th>\n",
       "      <th>180</th>\n",
       "      <th>252</th>\n",
       "      <th>504</th>\n",
       "    </tr>\n",
       "  </thead>\n",
       "  <tbody>\n",
       "    <tr>\n",
       "      <th>90</th>\n",
       "      <td>0.026253</td>\n",
       "      <td>0.162813</td>\n",
       "      <td>0.369707</td>\n",
       "      <td>0.601750</td>\n",
       "      <td>1.085551</td>\n",
       "      <td>1.652406</td>\n",
       "      <td>3.395680</td>\n",
       "    </tr>\n",
       "    <tr>\n",
       "      <th>95</th>\n",
       "      <td>0.322887</td>\n",
       "      <td>0.821210</td>\n",
       "      <td>1.282721</td>\n",
       "      <td>1.697724</td>\n",
       "      <td>2.432313</td>\n",
       "      <td>3.194693</td>\n",
       "      <td>5.295936</td>\n",
       "    </tr>\n",
       "    <tr>\n",
       "      <th>100</th>\n",
       "      <td>1.858105</td>\n",
       "      <td>2.644577</td>\n",
       "      <td>3.251536</td>\n",
       "      <td>3.758649</td>\n",
       "      <td>4.610641</td>\n",
       "      <td>5.461448</td>\n",
       "      <td>7.727594</td>\n",
       "    </tr>\n",
       "    <tr>\n",
       "      <th>105</th>\n",
       "      <td>5.375157</td>\n",
       "      <td>5.920522</td>\n",
       "      <td>6.417247</td>\n",
       "      <td>6.860844</td>\n",
       "      <td>7.642178</td>\n",
       "      <td>8.450116</td>\n",
       "      <td>10.669692</td>\n",
       "    </tr>\n",
       "    <tr>\n",
       "      <th>110</th>\n",
       "      <td>10.047842</td>\n",
       "      <td>10.249031</td>\n",
       "      <td>10.523241</td>\n",
       "      <td>10.815636</td>\n",
       "      <td>11.402300</td>\n",
       "      <td>12.070355</td>\n",
       "      <td>14.072077</td>\n",
       "    </tr>\n",
       "  </tbody>\n",
       "</table>\n",
       "</div>"
      ],
      "text/plain": [
       "           30         60         90         120        180        252  \\\n",
       "90    0.026253   0.162813   0.369707   0.601750   1.085551   1.652406   \n",
       "95    0.322887   0.821210   1.282721   1.697724   2.432313   3.194693   \n",
       "100   1.858105   2.644577   3.251536   3.758649   4.610641   5.461448   \n",
       "105   5.375157   5.920522   6.417247   6.860844   7.642178   8.450116   \n",
       "110  10.047842  10.249031  10.523241  10.815636  11.402300  12.070355   \n",
       "\n",
       "           504  \n",
       "90    3.395680  \n",
       "95    5.295936  \n",
       "100   7.727594  \n",
       "105  10.669692  \n",
       "110  14.072077  "
      ]
     },
     "execution_count": 17,
     "metadata": {},
     "output_type": "execute_result"
    }
   ],
   "source": [
    "p = garch.price(strike, spot, texp, cp=-1)\n",
    "pd.DataFrame(data=p,columns=np.int64(np.around(texp*252)),index=strike)"
   ]
  },
  {
   "cell_type": "code",
   "execution_count": 18,
   "metadata": {},
   "outputs": [],
   "source": [
    "c_1=0.18\n",
    "c_2=2\n",
    "c_3=0.8\n",
    "\n",
    "rho=0 # correlation between volatility and asset price\n",
    "mr=c_2\n",
    "vov=c_3\n",
    "theta_ratio=1.0\n",
    "sigma=np.sqrt(c_1/c_2) # start-up volatility\n",
    "intr=0.0 # risk-free interest rate\n",
    "divr=0.0 # dividend rate\n",
    "strike=np.arange(90,115,5) # strike price\n",
    "spot=100 # spot asset price\n",
    "texp=1/252*np.array([30,60,90,120,180,252,504]) # time to maturity\n",
    "\n",
    "garch = pf.GarchCondMC(sigma=sigma, vov=vov, rho=rho, mr=mr, theta=c_1/c_2)\n",
    "garch.set_mc_params(dt=0.01, n_path=100000,rn_seed=123456)"
   ]
  },
  {
   "cell_type": "code",
   "execution_count": 19,
   "metadata": {},
   "outputs": [
    {
     "data": {
      "text/html": [
       "<div>\n",
       "<style scoped>\n",
       "    .dataframe tbody tr th:only-of-type {\n",
       "        vertical-align: middle;\n",
       "    }\n",
       "\n",
       "    .dataframe tbody tr th {\n",
       "        vertical-align: top;\n",
       "    }\n",
       "\n",
       "    .dataframe thead th {\n",
       "        text-align: right;\n",
       "    }\n",
       "</style>\n",
       "<table border=\"1\" class=\"dataframe\">\n",
       "  <thead>\n",
       "    <tr style=\"text-align: right;\">\n",
       "      <th></th>\n",
       "      <th>30</th>\n",
       "      <th>60</th>\n",
       "      <th>90</th>\n",
       "      <th>120</th>\n",
       "      <th>180</th>\n",
       "      <th>252</th>\n",
       "      <th>504</th>\n",
       "    </tr>\n",
       "  </thead>\n",
       "  <tbody>\n",
       "    <tr>\n",
       "      <th>90</th>\n",
       "      <td>0.791058</td>\n",
       "      <td>1.907102</td>\n",
       "      <td>2.902513</td>\n",
       "      <td>3.788398</td>\n",
       "      <td>5.340696</td>\n",
       "      <td>6.940731</td>\n",
       "      <td>11.349985</td>\n",
       "    </tr>\n",
       "    <tr>\n",
       "      <th>95</th>\n",
       "      <td>2.002076</td>\n",
       "      <td>3.513431</td>\n",
       "      <td>4.715297</td>\n",
       "      <td>5.736477</td>\n",
       "      <td>7.467570</td>\n",
       "      <td>9.208072</td>\n",
       "      <td>13.896539</td>\n",
       "    </tr>\n",
       "    <tr>\n",
       "      <th>100</th>\n",
       "      <td>4.117848</td>\n",
       "      <td>5.809192</td>\n",
       "      <td>7.106076</td>\n",
       "      <td>8.192086</td>\n",
       "      <td>10.014132</td>\n",
       "      <td>11.831895</td>\n",
       "      <td>16.693898</td>\n",
       "    </tr>\n",
       "    <tr>\n",
       "      <th>105</th>\n",
       "      <td>7.185103</td>\n",
       "      <td>8.787175</td>\n",
       "      <td>10.056790</td>\n",
       "      <td>11.134046</td>\n",
       "      <td>12.958400</td>\n",
       "      <td>14.791316</td>\n",
       "      <td>19.725393</td>\n",
       "    </tr>\n",
       "    <tr>\n",
       "      <th>110</th>\n",
       "      <td>11.048374</td>\n",
       "      <td>12.365451</td>\n",
       "      <td>13.508898</td>\n",
       "      <td>14.515425</td>\n",
       "      <td>16.265311</td>\n",
       "      <td>18.058402</td>\n",
       "      <td>22.973020</td>\n",
       "    </tr>\n",
       "  </tbody>\n",
       "</table>\n",
       "</div>"
      ],
      "text/plain": [
       "           30         60         90         120        180        252  \\\n",
       "90    0.791058   1.907102   2.902513   3.788398   5.340696   6.940731   \n",
       "95    2.002076   3.513431   4.715297   5.736477   7.467570   9.208072   \n",
       "100   4.117848   5.809192   7.106076   8.192086  10.014132  11.831895   \n",
       "105   7.185103   8.787175  10.056790  11.134046  12.958400  14.791316   \n",
       "110  11.048374  12.365451  13.508898  14.515425  16.265311  18.058402   \n",
       "\n",
       "           504  \n",
       "90   11.349985  \n",
       "95   13.896539  \n",
       "100  16.693898  \n",
       "105  19.725393  \n",
       "110  22.973020  "
      ]
     },
     "execution_count": 19,
     "metadata": {},
     "output_type": "execute_result"
    }
   ],
   "source": [
    "p = garch.price(strike, spot, texp, cp=-1)\n",
    "pd.DataFrame(data=p,columns=np.int64(np.around(texp*252)),index=strike)"
   ]
  }
 ],
 "metadata": {
  "kernelspec": {
   "display_name": "Python 3",
   "language": "python",
   "name": "python3"
  },
  "language_info": {
   "codemirror_mode": {
    "name": "ipython",
    "version": 3
   },
   "file_extension": ".py",
   "mimetype": "text/x-python",
   "name": "python",
   "nbconvert_exporter": "python",
   "pygments_lexer": "ipython3",
   "version": "3.8.3"
  },
  "toc": {
   "base_numbering": 1,
   "nav_menu": {},
   "number_sections": false,
   "sideBar": true,
   "skip_h1_title": false,
   "title_cell": "Table of Contents",
   "title_sidebar": "Contents",
   "toc_cell": false,
   "toc_position": {
    "height": "calc(100% - 180px)",
    "left": "10px",
    "top": "150px",
    "width": "165px"
   },
   "toc_section_display": true,
   "toc_window_display": false
  }
 },
 "nbformat": 4,
 "nbformat_minor": 4
}
