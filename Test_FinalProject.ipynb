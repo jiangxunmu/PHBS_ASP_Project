{
 "cells": [
  {
   "cell_type": "markdown",
   "metadata": {},
   "source": [
    "<img align=\"center\" src=\"http://emba.eduego.com/Uploads/Ueditor/image/20180130/1517298966389236.jpg\">\n",
    "<h1 align=\"center\" style=\"margin-top:10px\">Conditional Monte-Carlo of OUSV and GARCH-diffusions</h1>\n",
    "<h2 align=\"center\" style=\"margin-top:20px\">Team：Li Panyu, Li Linxiong</h2>\n",
    "<br>"
   ]
  },
  {
   "cell_type": "markdown",
   "metadata": {},
   "source": [
    "# 1. The Ornstein-Uhlenbeck stochastic volatility (OUSV) model"
   ]
  },
  {
   "cell_type": "markdown",
   "metadata": {},
   "source": [
    "The ___Ornstein–Uhlenbeck process___ is an example of a ___Gaussian process___ that has a bounded variance and admits a stationary probability distribution, in contrast to the Wiener process; the difference between the two is in their \"drift\" term. For the Wiener process the drift term is constant, whereas for the Ornstein–Uhlenbeck process it is dependent on the current value of the process: if the current value of the process is less than the (long-term) mean, the drift will be positive; if the current value of the process is greater than the (long-term) mean, the drift will be negative. In other words, the mean acts as an equilibrium level for the process. This gives the process its informative name, \"___mean-reverting___\" "
   ]
  },
  {
   "cell_type": "markdown",
   "metadata": {},
   "source": [
    "### **Underline price process-following GBM**\n",
    "\n",
    "$$\\frac{dF_t}{F_t}=\\sigma_t(\\rho\\,dB_t + \\rho_*dX_t) \\tag{1}$$\n",
    "\n",
    "### **Volatility process-following OUSV**\n",
    "$$d\\sigma_t=\\kappa\\,(\\theta-\\sigma_t)\\,dt+\\xi\\,dB_t \\tag{2}$$  \n",
    "**Solution**\n",
    "$$\\sigma_t=e^{-\\kappa t}\\sigma_0+\\theta(1-e^{-\\kappa t})+\\frac{\\sigma e^{-\\kappa t}}{\\sqrt{2\\kappa}}B_{e^{-\\kappa t}\\, -1}\\tag{3}$$\n",
    "$$B_{e^{-\\kappa t}\\, -1}-B_{e^{-\\kappa s}\\, -1}\\sim N(0, e^{-2\\kappa t}-e^{-2\\kappa s})\\tag{4}$$  \n",
    "**Mathematical properties**\n",
    "$$E(\\sigma_t)=\\sigma_0 e^{-\\kappa t}+\\theta(1-e^{-\\kappa t}) \\tag{5}$$  \n",
    "$$var(\\sigma_T) = \\frac{\\xi^2}{2\\kappa}(1-e^{-2\\kappa t}) \\tag{6}$$\n",
    "$$cov(\\sigma_s, \\sigma_t)=\\frac{\\xi^2}{2\\kappa}(e^{-\\kappa|t-s|}-e^{-\\kappa(t+s)}) \\tag{7}$$\n",
    "\n",
    "### **Expectation and BS volatilitty of stock price $F_T$**\n",
    "$$F_T=F_0 exp\\left(\\frac{\\rho}{\\xi}({\\sigma_T}^2-{\\sigma_0}^2)-\\frac{\\rho\\xi}{2}T-\\frac{\\rho\\kappa\\theta}{\\xi}U_T+(\\frac{\\rho\\kappa}{\\xi}-\\frac{\\rho^2}{2})V_T\\right)\\,\\,\\,\\,,where\\,\\,U_T=\\int_{0}^{T}\\sigma_tdt\\,\\,,and\\,\\,V_T=\\int_{0}^{T}\\sigma^2_tdt\\tag{8}$$\n",
    "\n",
    "$$\\sigma_{BS} = \\rho_*\\sqrt{V_T/T} \\tag{9}$$"
   ]
  },
  {
   "cell_type": "markdown",
   "metadata": {},
   "source": [
    "### **OUSV conditional MC steps**\n",
    "\n",
    "|**Tags**| **Steps** | **Formulas of algorithm** |\n",
    "|----| - - - - | - - - - |\n",
    "|**1**| Simulate BM increment and cumsum | $$B_{e^{-\\kappa t}\\, -1}-B_{e^{-\\kappa s}\\, -1}\\sim N(0, e^{-2\\kappa t}-e^{-2\\kappa s})$$ |\n",
    "|**2**| Simulate volatility path | $$\\sigma_t=e^{-\\kappa t}\\sigma_0+\\theta(1-e^{-\\kappa t})+\\frac{\\sigma e^{-\\kappa t}}{\\sqrt{2\\kappa}}B_{e^{-\\kappa t}\\, -1}$$ |\n",
    "|**3**| Calculate forward conditional spot and volatility | $$F_T=F_0 exp\\left(\\frac{\\rho}{\\xi}({\\sigma_T}^2-{\\sigma_0}^2)-\\frac{\\rho\\xi}{2}T-\\frac{\\rho\\kappa\\theta}{\\xi}U_T+(\\frac{\\rho\\kappa}{\\xi}-\\frac{\\rho^2}{2})V_T\\right)\\,\\,,\\,\\,\\sigma_{BS} = \\rho_*\\sqrt{V_T/T}$$|\n",
    "|**4**| Use BSM to calculate the option price |$$C_T=F_0N(d_1)-KN(d_2),d_{1,2}=\\frac{log(F_0/K)}{\\sigma\\sqrt{T}}\\pm\\frac{1}{2}\\sigma\\sqrt{T}$$ |"
   ]
  },
  {
   "cell_type": "markdown",
   "metadata": {},
   "source": [
    "where:  \n",
    "$V_T=\\int_0^T{\\sigma_t}^2dt, U_T=\\int_0^T\\sigma_tdt$  \n",
    "$F_t$ is the forward asset price,  \n",
    "$\\kappa$ is the speed of mean reversion,  \n",
    "$\\theta$ is the long-term volatility,  \n",
    "$\\xi$ is the volatility of the volatility $\\sigma_t$,  \n",
    "$\\rho$ is the instantaneous correlation between asset price and volatility, $\\rho_*=\\sqrt{1-\\rho^2}$   \n",
    "$B_t$ and $X_t$ are two independent Brownian motions  "
   ]
  },
  {
   "cell_type": "markdown",
   "metadata": {},
   "source": [
    "## OUSV Test\n",
    "\n",
    "By setting the same parameter, we compare our results with the results of Li & Wu. (2018)'s exact method and the exact prices.  \n",
    "\n",
    "References:  \n",
    "Li, C., & Wu, L. (2019). Exact simulation of the Ornstein–Uhlenbeck driven stochastic volatility model. European Journal of Operational Research, 275(2), 768-779. https://doi.org/10.1016/j.ejor.2018.11.057"
   ]
  },
  {
   "cell_type": "code",
   "execution_count": 1,
   "metadata": {},
   "outputs": [],
   "source": [
    "%load_ext autoreload\n",
    "%autoreload 2"
   ]
  },
  {
   "cell_type": "code",
   "execution_count": 2,
   "metadata": {},
   "outputs": [],
   "source": [
    "import sys\n",
    "import numpy as np\n",
    "import pandas as pd\n",
    "import matplotlib.pyplot as plt\n",
    "sys.path.insert(sys.path.index('') + 1, 'E:\\PHBS\\8.ASP\\PyFENG')\n",
    "# sys.path.insert(sys.path.index('') + 1, 'C:/Users/cherr/Documents/GitHub/PyFeng')\n",
    "import pyfeng as pf\n",
    "from tqdm import tqdm\n",
    "from matplotlib import cm\n",
    "from matplotlib.ticker import LinearLocator, FormatStrFormatter\n",
    "from mpl_toolkits.mplot3d import Axes3D"
   ]
  },
  {
   "cell_type": "markdown",
   "metadata": {},
   "source": [
    "## 1.1 Test sample 1\n",
    "\n",
    "**True value: 13.21493, 40.79773, 62.76312**"
   ]
  },
  {
   "cell_type": "code",
   "execution_count": 3,
   "metadata": {},
   "outputs": [],
   "source": [
    "strike = np.array([100])\n",
    "spot = 100\n",
    "texp = np.array([1, 5, 10])\n",
    "ousv = pf.OusvCondMC(sigma = 0.2, mr=4, vov = 0.1, rho=-0.7, intr=0.09531)\n",
    "ousv.set_mc_params(dt=0.02, n_path=500000, rn_seed=123456, antithetic=False)\n",
    "ousvift = pf.OusvIft(0.2, mr=4, vov=0.1, rho=-0.7, intr=0.09531)"
   ]
  },
  {
   "cell_type": "markdown",
   "metadata": {},
   "source": [
    "#### 1.1.1 Conditional MC of OUSV"
   ]
  },
  {
   "cell_type": "code",
   "execution_count": 4,
   "metadata": {
    "scrolled": true
   },
   "outputs": [
    {
     "data": {
      "text/html": [
       "<div>\n",
       "<style scoped>\n",
       "    .dataframe tbody tr th:only-of-type {\n",
       "        vertical-align: middle;\n",
       "    }\n",
       "\n",
       "    .dataframe tbody tr th {\n",
       "        vertical-align: top;\n",
       "    }\n",
       "\n",
       "    .dataframe thead tr th {\n",
       "        text-align: left;\n",
       "    }\n",
       "</style>\n",
       "<table border=\"1\" class=\"dataframe\">\n",
       "  <thead>\n",
       "    <tr>\n",
       "      <th></th>\n",
       "      <th>1</th>\n",
       "      <th>5</th>\n",
       "      <th>10</th>\n",
       "    </tr>\n",
       "  </thead>\n",
       "  <tbody>\n",
       "    <tr>\n",
       "      <th>100</th>\n",
       "      <td>13.189209</td>\n",
       "      <td>40.869062</td>\n",
       "      <td>62.807413</td>\n",
       "    </tr>\n",
       "  </tbody>\n",
       "</table>\n",
       "</div>"
      ],
      "text/plain": [
       "            1          5          10\n",
       "100  13.189209  40.869062  62.807413"
      ]
     },
     "execution_count": 4,
     "metadata": {},
     "output_type": "execute_result"
    }
   ],
   "source": [
    "p_ousv = ousv.price(strike, spot, texp)\n",
    "ousv_df = pd.DataFrame(data=p_ousv,columns=[texp],index=strike)\n",
    "ousv_df"
   ]
  },
  {
   "cell_type": "markdown",
   "metadata": {},
   "source": [
    "#### 1.1.2 Approximation exact simulation of OUSV"
   ]
  },
  {
   "cell_type": "code",
   "execution_count": 5,
   "metadata": {},
   "outputs": [
    {
     "data": {
      "text/html": [
       "<div>\n",
       "<style scoped>\n",
       "    .dataframe tbody tr th:only-of-type {\n",
       "        vertical-align: middle;\n",
       "    }\n",
       "\n",
       "    .dataframe tbody tr th {\n",
       "        vertical-align: top;\n",
       "    }\n",
       "\n",
       "    .dataframe thead th {\n",
       "        text-align: right;\n",
       "    }\n",
       "</style>\n",
       "<table border=\"1\" class=\"dataframe\">\n",
       "  <thead>\n",
       "    <tr style=\"text-align: right;\">\n",
       "      <th></th>\n",
       "      <th>1</th>\n",
       "      <th>5</th>\n",
       "      <th>10</th>\n",
       "    </tr>\n",
       "  </thead>\n",
       "  <tbody>\n",
       "    <tr>\n",
       "      <th>100</th>\n",
       "      <td>13.213412</td>\n",
       "      <td>40.785145</td>\n",
       "      <td>62.674277</td>\n",
       "    </tr>\n",
       "  </tbody>\n",
       "</table>\n",
       "</div>"
      ],
      "text/plain": [
       "            1          5          10\n",
       "100  13.213412  40.785145  62.674277"
      ]
     },
     "execution_count": 5,
     "metadata": {},
     "output_type": "execute_result"
    }
   ],
   "source": [
    "p_ousvift=ousvift.price(100, 100, texp=np.array([1, 5, 10]))\n",
    "ousvift_df = pd.DataFrame(data=p_ousvift[:,None].T,columns=np.array([1, 5, 10]),index=[100])\n",
    "ousvift_df"
   ]
  },
  {
   "cell_type": "markdown",
   "metadata": {},
   "source": [
    "#### 1.1.3 Difference between CondMC and Approximation exact"
   ]
  },
  {
   "cell_type": "code",
   "execution_count": 6,
   "metadata": {},
   "outputs": [
    {
     "data": {
      "text/html": [
       "<div>\n",
       "<style scoped>\n",
       "    .dataframe tbody tr th:only-of-type {\n",
       "        vertical-align: middle;\n",
       "    }\n",
       "\n",
       "    .dataframe tbody tr th {\n",
       "        vertical-align: top;\n",
       "    }\n",
       "\n",
       "    .dataframe thead th {\n",
       "        text-align: right;\n",
       "    }\n",
       "</style>\n",
       "<table border=\"1\" class=\"dataframe\">\n",
       "  <thead>\n",
       "    <tr style=\"text-align: right;\">\n",
       "      <th></th>\n",
       "      <th>1</th>\n",
       "      <th>5</th>\n",
       "      <th>10</th>\n",
       "    </tr>\n",
       "  </thead>\n",
       "  <tbody>\n",
       "    <tr>\n",
       "      <th>100</th>\n",
       "      <td>-0.024203</td>\n",
       "      <td>0.083918</td>\n",
       "      <td>0.133137</td>\n",
       "    </tr>\n",
       "  </tbody>\n",
       "</table>\n",
       "</div>"
      ],
      "text/plain": [
       "           1         5         10\n",
       "100 -0.024203  0.083918  0.133137"
      ]
     },
     "execution_count": 6,
     "metadata": {},
     "output_type": "execute_result"
    }
   ],
   "source": [
    "pd.DataFrame(data=(ousv_df.values - ousvift_df.values),columns=np.array([1, 5, 10]),index=[100])"
   ]
  },
  {
   "cell_type": "markdown",
   "metadata": {},
   "source": [
    "#### 1.1.4 Difference between CondMC and True value"
   ]
  },
  {
   "cell_type": "code",
   "execution_count": 7,
   "metadata": {},
   "outputs": [
    {
     "data": {
      "text/html": [
       "<div>\n",
       "<style scoped>\n",
       "    .dataframe tbody tr th:only-of-type {\n",
       "        vertical-align: middle;\n",
       "    }\n",
       "\n",
       "    .dataframe tbody tr th {\n",
       "        vertical-align: top;\n",
       "    }\n",
       "\n",
       "    .dataframe thead th {\n",
       "        text-align: right;\n",
       "    }\n",
       "</style>\n",
       "<table border=\"1\" class=\"dataframe\">\n",
       "  <thead>\n",
       "    <tr style=\"text-align: right;\">\n",
       "      <th></th>\n",
       "      <th>1</th>\n",
       "      <th>5</th>\n",
       "      <th>10</th>\n",
       "    </tr>\n",
       "  </thead>\n",
       "  <tbody>\n",
       "    <tr>\n",
       "      <th>100</th>\n",
       "      <td>-0.025721</td>\n",
       "      <td>0.071332</td>\n",
       "      <td>0.044293</td>\n",
       "    </tr>\n",
       "  </tbody>\n",
       "</table>\n",
       "</div>"
      ],
      "text/plain": [
       "           1         5         10\n",
       "100 -0.025721  0.071332  0.044293"
      ]
     },
     "execution_count": 7,
     "metadata": {},
     "output_type": "execute_result"
    }
   ],
   "source": [
    "true_values = np.array([13.21493, 40.79773, 62.76312])\n",
    "pd.DataFrame(data=(ousv_df.values - true_values),columns=np.array([1, 5, 10]),index=[100])"
   ]
  },
  {
   "cell_type": "markdown",
   "metadata": {},
   "source": [
    "## 1.2 Test sample 2\n",
    "\n",
    "**True value: 21.41873, 15.16798, 10.17448**"
   ]
  },
  {
   "cell_type": "code",
   "execution_count": 8,
   "metadata": {},
   "outputs": [],
   "source": [
    "strike = np.array([90, 100, 110])\n",
    "spot = 100\n",
    "texp = 1\n",
    "ousv = pf.OusvCondMC(sigma = 0.25, mr=8, vov = 0.3, rho=-0.6, intr=0.09531)\n",
    "ousv.set_mc_params(dt=0.02, n_path=500000, rn_seed=123456)\n",
    "ousvift = pf.OusvIft(0.25, mr=8, vov=0.3, rho=-0.6, intr=0.09531)"
   ]
  },
  {
   "cell_type": "markdown",
   "metadata": {},
   "source": [
    "#### 1.1.1 Conditional MC of OUSV"
   ]
  },
  {
   "cell_type": "code",
   "execution_count": 9,
   "metadata": {},
   "outputs": [
    {
     "data": {
      "text/html": [
       "<div>\n",
       "<style scoped>\n",
       "    .dataframe tbody tr th:only-of-type {\n",
       "        vertical-align: middle;\n",
       "    }\n",
       "\n",
       "    .dataframe tbody tr th {\n",
       "        vertical-align: top;\n",
       "    }\n",
       "\n",
       "    .dataframe thead th {\n",
       "        text-align: right;\n",
       "    }\n",
       "</style>\n",
       "<table border=\"1\" class=\"dataframe\">\n",
       "  <thead>\n",
       "    <tr style=\"text-align: right;\">\n",
       "      <th></th>\n",
       "      <th>1</th>\n",
       "    </tr>\n",
       "  </thead>\n",
       "  <tbody>\n",
       "    <tr>\n",
       "      <th>90</th>\n",
       "      <td>21.428550</td>\n",
       "    </tr>\n",
       "    <tr>\n",
       "      <th>100</th>\n",
       "      <td>15.178008</td>\n",
       "    </tr>\n",
       "    <tr>\n",
       "      <th>110</th>\n",
       "      <td>10.183465</td>\n",
       "    </tr>\n",
       "  </tbody>\n",
       "</table>\n",
       "</div>"
      ],
      "text/plain": [
       "             1\n",
       "90   21.428550\n",
       "100  15.178008\n",
       "110  10.183465"
      ]
     },
     "execution_count": 9,
     "metadata": {},
     "output_type": "execute_result"
    }
   ],
   "source": [
    "p_ousv = ousv.price(strike, spot, texp)\n",
    "ousv_df = pd.DataFrame(data=p_ousv,columns=[texp],index=strike)\n",
    "ousv_df"
   ]
  },
  {
   "cell_type": "markdown",
   "metadata": {},
   "source": [
    "#### 1.1.2 Approximation exact simulation of OUSV"
   ]
  },
  {
   "cell_type": "code",
   "execution_count": 10,
   "metadata": {},
   "outputs": [
    {
     "data": {
      "text/html": [
       "<div>\n",
       "<style scoped>\n",
       "    .dataframe tbody tr th:only-of-type {\n",
       "        vertical-align: middle;\n",
       "    }\n",
       "\n",
       "    .dataframe tbody tr th {\n",
       "        vertical-align: top;\n",
       "    }\n",
       "\n",
       "    .dataframe thead th {\n",
       "        text-align: right;\n",
       "    }\n",
       "</style>\n",
       "<table border=\"1\" class=\"dataframe\">\n",
       "  <thead>\n",
       "    <tr style=\"text-align: right;\">\n",
       "      <th></th>\n",
       "      <th>1</th>\n",
       "    </tr>\n",
       "  </thead>\n",
       "  <tbody>\n",
       "    <tr>\n",
       "      <th>90</th>\n",
       "      <td>21.416243</td>\n",
       "    </tr>\n",
       "    <tr>\n",
       "      <th>100</th>\n",
       "      <td>15.165753</td>\n",
       "    </tr>\n",
       "    <tr>\n",
       "      <th>110</th>\n",
       "      <td>10.171460</td>\n",
       "    </tr>\n",
       "  </tbody>\n",
       "</table>\n",
       "</div>"
      ],
      "text/plain": [
       "             1\n",
       "90   21.416243\n",
       "100  15.165753\n",
       "110  10.171460"
      ]
     },
     "execution_count": 10,
     "metadata": {},
     "output_type": "execute_result"
    }
   ],
   "source": [
    "p_ousvift=ousvift.price(np.array([90, 100, 110]), 100, texp=1)\n",
    "ousvift_df = pd.DataFrame(data=p_ousvift[:,None],columns=[texp],index=np.array([90, 100, 110]))\n",
    "ousvift_df"
   ]
  },
  {
   "cell_type": "markdown",
   "metadata": {},
   "source": [
    "#### 1.1.3 Difference between CondMC and Approximation Exact"
   ]
  },
  {
   "cell_type": "code",
   "execution_count": 11,
   "metadata": {},
   "outputs": [
    {
     "data": {
      "text/html": [
       "<div>\n",
       "<style scoped>\n",
       "    .dataframe tbody tr th:only-of-type {\n",
       "        vertical-align: middle;\n",
       "    }\n",
       "\n",
       "    .dataframe tbody tr th {\n",
       "        vertical-align: top;\n",
       "    }\n",
       "\n",
       "    .dataframe thead th {\n",
       "        text-align: right;\n",
       "    }\n",
       "</style>\n",
       "<table border=\"1\" class=\"dataframe\">\n",
       "  <thead>\n",
       "    <tr style=\"text-align: right;\">\n",
       "      <th></th>\n",
       "      <th>1</th>\n",
       "    </tr>\n",
       "  </thead>\n",
       "  <tbody>\n",
       "    <tr>\n",
       "      <th>90</th>\n",
       "      <td>0.012308</td>\n",
       "    </tr>\n",
       "    <tr>\n",
       "      <th>100</th>\n",
       "      <td>0.012255</td>\n",
       "    </tr>\n",
       "    <tr>\n",
       "      <th>110</th>\n",
       "      <td>0.012005</td>\n",
       "    </tr>\n",
       "  </tbody>\n",
       "</table>\n",
       "</div>"
      ],
      "text/plain": [
       "            1\n",
       "90   0.012308\n",
       "100  0.012255\n",
       "110  0.012005"
      ]
     },
     "execution_count": 11,
     "metadata": {},
     "output_type": "execute_result"
    }
   ],
   "source": [
    "pd.DataFrame(data=(ousv_df.values - ousvift_df.values),columns=[texp],index=np.array([90, 100, 110]))"
   ]
  },
  {
   "cell_type": "markdown",
   "metadata": {},
   "source": [
    "#### 1.1.4 Difference between CondMC and True value"
   ]
  },
  {
   "cell_type": "code",
   "execution_count": 12,
   "metadata": {},
   "outputs": [
    {
     "data": {
      "text/html": [
       "<div>\n",
       "<style scoped>\n",
       "    .dataframe tbody tr th:only-of-type {\n",
       "        vertical-align: middle;\n",
       "    }\n",
       "\n",
       "    .dataframe tbody tr th {\n",
       "        vertical-align: top;\n",
       "    }\n",
       "\n",
       "    .dataframe thead th {\n",
       "        text-align: right;\n",
       "    }\n",
       "</style>\n",
       "<table border=\"1\" class=\"dataframe\">\n",
       "  <thead>\n",
       "    <tr style=\"text-align: right;\">\n",
       "      <th></th>\n",
       "      <th>1</th>\n",
       "    </tr>\n",
       "  </thead>\n",
       "  <tbody>\n",
       "    <tr>\n",
       "      <th>90</th>\n",
       "      <td>0.009820</td>\n",
       "    </tr>\n",
       "    <tr>\n",
       "      <th>100</th>\n",
       "      <td>0.010028</td>\n",
       "    </tr>\n",
       "    <tr>\n",
       "      <th>110</th>\n",
       "      <td>0.008985</td>\n",
       "    </tr>\n",
       "  </tbody>\n",
       "</table>\n",
       "</div>"
      ],
      "text/plain": [
       "            1\n",
       "90   0.009820\n",
       "100  0.010028\n",
       "110  0.008985"
      ]
     },
     "execution_count": 12,
     "metadata": {},
     "output_type": "execute_result"
    }
   ],
   "source": [
    "true_values = np.array([21.41873, 15.16798, 10.17448])\n",
    "pd.DataFrame(data=(ousv_df.values.T - true_values).T,columns=[texp],index=np.array([90, 100, 110]))"
   ]
  },
  {
   "cell_type": "markdown",
   "metadata": {},
   "source": [
    "## 1.3 Test sample 3"
   ]
  },
  {
   "cell_type": "code",
   "execution_count": 13,
   "metadata": {},
   "outputs": [],
   "source": [
    "strike = np.linspace(75,125,num=10)\n",
    "spot = 100\n",
    "texp = 1\n",
    "ousv = pf.OusvCondMC(sigma=0.2, vov=0.5, rho=0.7, mr=2, theta=1)\n",
    "ousv.set_mc_params(dt=0.02, n_path=500000, rn_seed=123456)\n",
    "ousv_ift = pf.OusvIft(sigma=0.2, mr=2, vov=0.5, rho=0.7, theta=1)"
   ]
  },
  {
   "cell_type": "markdown",
   "metadata": {},
   "source": [
    "#### 1.1.1 Conditional MC of OUSV"
   ]
  },
  {
   "cell_type": "code",
   "execution_count": 14,
   "metadata": {
    "scrolled": true
   },
   "outputs": [
    {
     "data": {
      "text/html": [
       "<div>\n",
       "<style scoped>\n",
       "    .dataframe tbody tr th:only-of-type {\n",
       "        vertical-align: middle;\n",
       "    }\n",
       "\n",
       "    .dataframe tbody tr th {\n",
       "        vertical-align: top;\n",
       "    }\n",
       "\n",
       "    .dataframe thead th {\n",
       "        text-align: right;\n",
       "    }\n",
       "</style>\n",
       "<table border=\"1\" class=\"dataframe\">\n",
       "  <thead>\n",
       "    <tr style=\"text-align: right;\">\n",
       "      <th></th>\n",
       "      <th>75</th>\n",
       "      <th>81</th>\n",
       "      <th>86</th>\n",
       "      <th>92</th>\n",
       "      <th>97</th>\n",
       "      <th>103</th>\n",
       "      <th>108</th>\n",
       "      <th>114</th>\n",
       "      <th>119</th>\n",
       "      <th>125</th>\n",
       "    </tr>\n",
       "  </thead>\n",
       "  <tbody>\n",
       "    <tr>\n",
       "      <th>1</th>\n",
       "      <td>38.15038</td>\n",
       "      <td>35.63877</td>\n",
       "      <td>33.364992</td>\n",
       "      <td>31.302344</td>\n",
       "      <td>29.426949</td>\n",
       "      <td>27.717707</td>\n",
       "      <td>26.156088</td>\n",
       "      <td>24.725872</td>\n",
       "      <td>23.412879</td>\n",
       "      <td>22.204705</td>\n",
       "    </tr>\n",
       "  </tbody>\n",
       "</table>\n",
       "</div>"
      ],
      "text/plain": [
       "        75        81         86         92         97         103        108  \\\n",
       "1  38.15038  35.63877  33.364992  31.302344  29.426949  27.717707  26.156088   \n",
       "\n",
       "         114        119        125  \n",
       "1  24.725872  23.412879  22.204705  "
      ]
     },
     "execution_count": 14,
     "metadata": {},
     "output_type": "execute_result"
    }
   ],
   "source": [
    "p_ousv = ousv.price(strike, spot, texp)\n",
    "ousv_df = pd.DataFrame(data=p_ousv,columns=[texp],index=np.int64(np.around(strike))).T\n",
    "ousv_df"
   ]
  },
  {
   "cell_type": "markdown",
   "metadata": {},
   "source": [
    "#### 1.1.2 Approxiamtion exact simulation of OUSV"
   ]
  },
  {
   "cell_type": "code",
   "execution_count": 15,
   "metadata": {},
   "outputs": [
    {
     "data": {
      "text/html": [
       "<div>\n",
       "<style scoped>\n",
       "    .dataframe tbody tr th:only-of-type {\n",
       "        vertical-align: middle;\n",
       "    }\n",
       "\n",
       "    .dataframe tbody tr th {\n",
       "        vertical-align: top;\n",
       "    }\n",
       "\n",
       "    .dataframe thead th {\n",
       "        text-align: right;\n",
       "    }\n",
       "</style>\n",
       "<table border=\"1\" class=\"dataframe\">\n",
       "  <thead>\n",
       "    <tr style=\"text-align: right;\">\n",
       "      <th></th>\n",
       "      <th>75</th>\n",
       "      <th>81</th>\n",
       "      <th>86</th>\n",
       "      <th>92</th>\n",
       "      <th>97</th>\n",
       "      <th>103</th>\n",
       "      <th>108</th>\n",
       "      <th>114</th>\n",
       "      <th>119</th>\n",
       "      <th>125</th>\n",
       "    </tr>\n",
       "  </thead>\n",
       "  <tbody>\n",
       "    <tr>\n",
       "      <th>1</th>\n",
       "      <td>38.109676</td>\n",
       "      <td>35.598346</td>\n",
       "      <td>33.32456</td>\n",
       "      <td>31.26165</td>\n",
       "      <td>29.385771</td>\n",
       "      <td>27.675852</td>\n",
       "      <td>26.113393</td>\n",
       "      <td>24.682197</td>\n",
       "      <td>23.368102</td>\n",
       "      <td>22.158716</td>\n",
       "    </tr>\n",
       "  </tbody>\n",
       "</table>\n",
       "</div>"
      ],
      "text/plain": [
       "         75         81        86        92         97         103        108  \\\n",
       "1  38.109676  35.598346  33.32456  31.26165  29.385771  27.675852  26.113393   \n",
       "\n",
       "         114        119        125  \n",
       "1  24.682197  23.368102  22.158716  "
      ]
     },
     "execution_count": 15,
     "metadata": {},
     "output_type": "execute_result"
    }
   ],
   "source": [
    "p_ousvift = ousv_ift.price(strike, spot, texp)\n",
    "ousvift_df = pd.DataFrame(data=p_ousvift,columns=[texp],index=np.int64(np.around(strike))).T\n",
    "ousvift_df"
   ]
  },
  {
   "cell_type": "markdown",
   "metadata": {},
   "source": [
    "#### 1.1.3 Difference between CondMC and Approximation exact"
   ]
  },
  {
   "cell_type": "code",
   "execution_count": 16,
   "metadata": {},
   "outputs": [
    {
     "data": {
      "text/html": [
       "<div>\n",
       "<style scoped>\n",
       "    .dataframe tbody tr th:only-of-type {\n",
       "        vertical-align: middle;\n",
       "    }\n",
       "\n",
       "    .dataframe tbody tr th {\n",
       "        vertical-align: top;\n",
       "    }\n",
       "\n",
       "    .dataframe thead th {\n",
       "        text-align: right;\n",
       "    }\n",
       "</style>\n",
       "<table border=\"1\" class=\"dataframe\">\n",
       "  <thead>\n",
       "    <tr style=\"text-align: right;\">\n",
       "      <th></th>\n",
       "      <th>75</th>\n",
       "      <th>81</th>\n",
       "      <th>86</th>\n",
       "      <th>92</th>\n",
       "      <th>97</th>\n",
       "      <th>103</th>\n",
       "      <th>108</th>\n",
       "      <th>114</th>\n",
       "      <th>119</th>\n",
       "      <th>125</th>\n",
       "    </tr>\n",
       "  </thead>\n",
       "  <tbody>\n",
       "    <tr>\n",
       "      <th>1</th>\n",
       "      <td>0.040704</td>\n",
       "      <td>0.040424</td>\n",
       "      <td>0.040431</td>\n",
       "      <td>0.040694</td>\n",
       "      <td>0.041178</td>\n",
       "      <td>0.041855</td>\n",
       "      <td>0.042695</td>\n",
       "      <td>0.043675</td>\n",
       "      <td>0.044778</td>\n",
       "      <td>0.045989</td>\n",
       "    </tr>\n",
       "  </tbody>\n",
       "</table>\n",
       "</div>"
      ],
      "text/plain": [
       "        75        81        86        92        97        103       108  \\\n",
       "1  0.040704  0.040424  0.040431  0.040694  0.041178  0.041855  0.042695   \n",
       "\n",
       "        114       119       125  \n",
       "1  0.043675  0.044778  0.045989  "
      ]
     },
     "execution_count": 16,
     "metadata": {},
     "output_type": "execute_result"
    }
   ],
   "source": [
    "pd.DataFrame(data=(ousv_df.values - ousvift_df.values),index=[texp],columns=np.int64(np.around(strike)))"
   ]
  },
  {
   "cell_type": "markdown",
   "metadata": {},
   "source": [
    "## Volatility Simle"
   ]
  },
  {
   "cell_type": "code",
   "execution_count": 17,
   "metadata": {},
   "outputs": [],
   "source": [
    "c_1=0.09\n",
    "c_2=4\n",
    "c_3=1.2\n",
    "\n",
    "rho=0 # correlation between volatility and asset price\n",
    "mr=c_2\n",
    "vov=c_3\n",
    "theta_ratio=1.0\n",
    "sigma=np.sqrt(c_1/c_2) # start-up volatility\n",
    "intr=0.0 # risk-free interest rate\n",
    "divr=0.0 # dividend rate\n",
    "strike=np.arange(90,111,1) # strike price\n",
    "spot=100 # spot asset price\n",
    "texp=1/252*np.array([30,60,90,120]) # time to maturity\n",
    "\n",
    "ousv = pf.OusvCondMC(sigma=sigma, vov=vov, rho=rho, mr=mr, theta=c_1/c_2)\n",
    "ousv.set_mc_params(dt=0.02, n_path=500000,rn_seed=123456)"
   ]
  },
  {
   "cell_type": "code",
   "execution_count": 18,
   "metadata": {},
   "outputs": [
    {
     "name": "stderr",
     "output_type": "stream",
     "text": [
      "100%|██████████████████████████████████████████████████████████████████████████████████| 21/21 [00:49<00:00,  2.36s/it]\n"
     ]
    }
   ],
   "source": [
    "impvol_1=np.zeros((len(strike),len(texp))) \n",
    "for i in tqdm(range(len(strike))):\n",
    "    for j in range(len(texp)):\n",
    "        impvol_1[i, j]=ousv.vol_smile(strike[i], spot, texp[j], cp=-1)[0, 0]"
   ]
  },
  {
   "cell_type": "code",
   "execution_count": 19,
   "metadata": {},
   "outputs": [
    {
     "data": {
      "image/png": "[encoded data removed]",
      "text/plain": [
       "<Figure size 432x288 with 1 Axes>"
      ]
     },
     "metadata": {
      "needs_background": "light"
     },
     "output_type": "display_data"
    }
   ],
   "source": [
    "pd.DataFrame(data=impvol_1,columns=np.int64(np.around(texp*252)),index=strike).plot()\n",
    "plt.legend(loc=1)\n",
    "plt.grid(linestyle='--')"
   ]
  },
  {
   "cell_type": "code",
   "execution_count": 20,
   "metadata": {},
   "outputs": [
    {
     "data": {
      "image/png": "[encoded data removed]",
      "text/plain": [
       "<Figure size 864x432 with 4 Axes>"
      ]
     },
     "metadata": {
      "needs_background": "light"
     },
     "output_type": "display_data"
    }
   ],
   "source": [
    "color = ['r', 'steelblue', 'g', 'orange']\n",
    "plt.figure(figsize=(12,6))\n",
    "for i in range(len(texp)):\n",
    "    plt.subplot(221+i)\n",
    "    plt.axis([90,110,0.25,0.37])\n",
    "    plt.plot(strike,impvol_1[:,i], c=color[i])\n",
    "    plt.ylabel('BSM Imp Vol')\n",
    "    plt.xlabel('Strike')\n",
    "    plt.title(str(int(round(252*texp[i])))+' days')\n",
    "    plt.tight_layout()\n",
    "    plt.grid(linestyle='--')\n",
    "plt.show()"
   ]
  },
  {
   "cell_type": "code",
   "execution_count": 21,
   "metadata": {},
   "outputs": [
    {
     "data": {
      "image/png": "[encoded data removed]",
      "text/plain": [
       "<Figure size 864x432 with 2 Axes>"
      ]
     },
     "metadata": {
      "needs_background": "light"
     },
     "output_type": "display_data"
    }
   ],
   "source": [
    "fig=plt.figure(figsize=(12,6))\n",
    "ax = fig.gca(projection='3d')\n",
    "surf=ax.plot_surface(strike.reshape(impvol_1.shape[0],1).repeat(impvol_1.shape[1],axis=1),(252*texp).reshape(1,impvol_1.shape[1]).repeat(impvol_1.shape[0],axis=0),impvol_1,cmap=cm.coolwarm)\n",
    "ax.set_zlabel('BSM Imp Vol')\n",
    "ax.set_ylabel('Maturity')\n",
    "ax.set_xlabel('Strikes')\n",
    "fig.colorbar(surf)\n",
    "plt.title('Implied volatility surfaces')\n",
    "plt.show()"
   ]
  },
  {
   "cell_type": "markdown",
   "metadata": {},
   "source": [
    "# 2. The Garch diffusion model:"
   ]
  },
  {
   "cell_type": "markdown",
   "metadata": {},
   "source": [
    "### **Underline price process-following GBM**\n",
    "\n",
    "$$\\frac{dF_t}{F_t}=\\sigma_t(\\rho\\,dB_t + \\rho_*dX_t) \\tag{1}$$\n",
    "\n",
    "### **Volatility process-following Garch diffusion model**\n",
    "$$dv_t=\\kappa\\,(\\theta-v_t)\\,dt+\\upsilon v_t\\,dB_t,\\ \\ \\  where\\ \\ v_t=\\sigma_t^2 \\tag{2}$$  \n",
    "\n",
    "#### **Analytical solution of volatility**\n",
    "$$v_t=e^{-(\\kappa+\\frac{\\upsilon^2}{2})t+\\upsilon B_t}\\left(v_0+\\kappa \\theta \\int_{0}^{t}e^{(\\kappa+\\frac{\\upsilon^2}{2})s-\\upsilon B_s}ds \\right) \\tag{3}$$\n",
    "\n",
    "#### **Milstein scheme of $v_t$**  \n",
    "Since the analytical solution of $v_t$ includes the integral of Brownain motion, we cannot get the volatility path from equation 3 directely. We need to utilize the Euler or Milstein scheme to get the path. The Euler and Milstein schemes for $v_t$ is given by:(the boxed term is noly for Milstein scheme)\n",
    "\n",
    "$$ v_{t+\\Delta t}-v_t=\\kappa (\\theta-v_t)\\Delta t+\\upsilon v_tZ_1\\sqrt{\\Delta t}+ \\boxed{\\frac{\\upsilon^2}{2}v_t(Z_1^2-1)\\Delta t} \\tag{4}$$\n",
    "\n",
    "Note: The SDE for $v_t$ tells us that $v_t$ cannot go negative. However, in the MC simulation, with the time-discretization scheme, $v_t$ sometimes go negative. To avoid this problem, it is better simulate $\\omega_t = logv_t$ instead. The Euler and Milstein schemes for $\\omega_t$ is given by:(two schemes are the same)\n",
    "\n",
    "$$ \\omega_{t+\\Delta t}-\\omega_t=(\\kappa \\theta e^{-\\omega t}-\\kappa - \\upsilon^{2}/2)\\Delta t + \\upsilon Z_1\\sqrt{\\Delta t} \\tag{5}$$\n",
    "\n",
    "$$ v_{t+\\Delta t}=v_t exp(\\omega_{t+\\Delta t}-\\omega_t) \\tag{6}$$\n",
    "\n",
    "### **Expectation and BS volatilitty of stock price $F_T$**\n",
    "\n",
    "$$F_T=F_0 exp\\left(\\frac{2\\rho}{\\upsilon}(\\sigma_T-\\sigma_0)-\\frac{\\rho\\kappa\\theta}{\\upsilon}Y_T+\\rho(\\frac{\\kappa}{\\upsilon}+\\frac{\\upsilon}{4})U_T-\\frac{\\rho^2}{2}V_T\\right)\\,\\,\\,\\,,where\\,\\,Y_T=\\int_{0}^{T}\\frac{1}{\\sigma_t}dt\\,\\,,\\,\\,U_T=\\int_{0}^{T}\\sigma_tdt\\,\\,,and\\,\\,V_T=\\int_{0}^{T}\\sigma^2_tdt \\tag{7}$$\n",
    "\n",
    "$$\\sigma_{BS} = \\rho_*\\sqrt{V_T/T} \\tag{8}$$"
   ]
  },
  {
   "cell_type": "markdown",
   "metadata": {},
   "source": [
    "### **Garch MC steps**\n",
    "\n",
    "|**Tags**| **Steps** | **Formulas of algorithm** |\n",
    "|----| - - - - | - - - - |\n",
    "|**1**| Simulate volatility path | $$ \\omega_{t+\\Delta t}=\\omega_t+(\\kappa \\theta e^{-\\omega t}-\\kappa - \\upsilon^{2}/2)\\Delta t + \\upsilon Z_1\\sqrt{\\Delta t}\\,\\,,\\,\\,v_t=e^{\\omega_t}$$ |\n",
    "|**2**| Calculate forward conditional spot and volatility |$$F_T=F_0 exp\\left(\\frac{2\\rho}{\\upsilon}(\\sigma_T-\\sigma_0)-\\frac{\\rho\\kappa\\theta}{\\upsilon}Y_T+\\rho(\\frac{\\kappa}{\\upsilon}+\\frac{\\upsilon}{4})U_T-\\frac{\\rho^2}{2}V_T\\right)\\,\\,,\\,\\,\\sigma_{BS} = \\rho_*\\sqrt{V_T/T}$$|\n",
    "|**3**| Use BSM to calculate the option price |$$C_T=F_0N(d_1)-KN(d_2),d_{1,2}=\\frac{log(F_0/K)}{\\sigma\\sqrt{T}}\\pm\\frac{1}{2}\\sigma\\sqrt{T}$$ |"
   ]
  },
  {
   "cell_type": "markdown",
   "metadata": {},
   "source": [
    "where:  \n",
    "$Y_T=\\int_{0}^{T}\\frac{1}{\\sigma_t}dt\\,\\,,\\,\\,U_T=\\int_{0}^{T}\\sigma_tdt\\,\\,,and\\,\\,V_T=\\int_{0}^{T}\\sigma^2_tdt$\n",
    "$F_t$ is the forward asset price,  \n",
    "$\\kappa$ is the speed of mean reversion,  \n",
    "$\\theta$ is the long-term volatility,  \n",
    "$\\upsilon$ is the volatility of the square of the volatility $\\sigma_t$,  \n",
    "$\\rho$ is the instantaneous correlation between asset price and volatility, $\\rho_*=\\sqrt{1-\\rho^2}$   \n",
    "$B_t$ and $X_t$ are two independent Brownian motions  "
   ]
  },
  {
   "cell_type": "markdown",
   "metadata": {},
   "source": [
    "## Garch TEST"
   ]
  },
  {
   "cell_type": "markdown",
   "metadata": {},
   "source": [
    "By setting the same parameter, we compare our results with the results of Barone-Adesi et al. (2004)'s approximation exact method.  \n",
    "\n",
    "References:  \n",
    "Barone-Adesi, G., Rasmussen, H., Ravanelli, C., 2005. An option pricing formula for the GARCH diffusion model. Computational Statistics & Data Analysis, 2nd CSDA Special Issue on Computational Econometrics 49, 287–310. https://doi.org/10.1016/j.csda.2004.05.014"
   ]
  },
  {
   "cell_type": "markdown",
   "metadata": {},
   "source": [
    "## 2.1 Test sample 1"
   ]
  },
  {
   "cell_type": "code",
   "execution_count": 22,
   "metadata": {},
   "outputs": [],
   "source": [
    "c_1=0.16\n",
    "c_2=18\n",
    "c_3=1.8\n",
    "\n",
    "rho=0# correlation between volatility and asset price\n",
    "mr=c_2\n",
    "theta_ratio=1.0\n",
    "vov=c_3\n",
    "sigma=np.sqrt(c_1/c_2) # start-up volatility\n",
    "strike=np.arange(90,115,5) # strike price\n",
    "spot=100 # spot asset price\n",
    "texp=1/252*np.array([30,60,90,120,180,252,504]) # time to maturity\n",
    "\n",
    "garch = pf.GarchCondMC(sigma=sigma, vov=vov, rho=rho, mr=mr, theta=c_1/c_2)\n",
    "garch.set_mc_params(dt=0.01, n_path=100000,rn_seed=123456)"
   ]
  },
  {
   "cell_type": "markdown",
   "metadata": {},
   "source": [
    "#### 2.1.1 Conditional MC of Garch"
   ]
  },
  {
   "cell_type": "code",
   "execution_count": 23,
   "metadata": {
    "scrolled": true
   },
   "outputs": [
    {
     "data": {
      "text/html": [
       "<div>\n",
       "<style scoped>\n",
       "    .dataframe tbody tr th:only-of-type {\n",
       "        vertical-align: middle;\n",
       "    }\n",
       "\n",
       "    .dataframe tbody tr th {\n",
       "        vertical-align: top;\n",
       "    }\n",
       "\n",
       "    .dataframe thead th {\n",
       "        text-align: right;\n",
       "    }\n",
       "</style>\n",
       "<table border=\"1\" class=\"dataframe\">\n",
       "  <thead>\n",
       "    <tr style=\"text-align: right;\">\n",
       "      <th></th>\n",
       "      <th>30</th>\n",
       "      <th>60</th>\n",
       "      <th>90</th>\n",
       "      <th>120</th>\n",
       "      <th>180</th>\n",
       "      <th>252</th>\n",
       "      <th>504</th>\n",
       "    </tr>\n",
       "  </thead>\n",
       "  <tbody>\n",
       "    <tr>\n",
       "      <th>90</th>\n",
       "      <td>0.000872</td>\n",
       "      <td>0.018887</td>\n",
       "      <td>0.068022</td>\n",
       "      <td>0.141990</td>\n",
       "      <td>0.334530</td>\n",
       "      <td>0.600841</td>\n",
       "      <td>1.559487</td>\n",
       "    </tr>\n",
       "    <tr>\n",
       "      <th>95</th>\n",
       "      <td>0.081166</td>\n",
       "      <td>0.302371</td>\n",
       "      <td>0.546020</td>\n",
       "      <td>0.783262</td>\n",
       "      <td>1.226298</td>\n",
       "      <td>1.705188</td>\n",
       "      <td>3.078051</td>\n",
       "    </tr>\n",
       "    <tr>\n",
       "      <th>100</th>\n",
       "      <td>1.294761</td>\n",
       "      <td>1.834119</td>\n",
       "      <td>2.250046</td>\n",
       "      <td>2.599173</td>\n",
       "      <td>3.185366</td>\n",
       "      <td>3.770786</td>\n",
       "      <td>5.334092</td>\n",
       "    </tr>\n",
       "    <tr>\n",
       "      <th>105</th>\n",
       "      <td>5.101202</td>\n",
       "      <td>5.353158</td>\n",
       "      <td>5.621918</td>\n",
       "      <td>5.880011</td>\n",
       "      <td>6.357161</td>\n",
       "      <td>6.869082</td>\n",
       "      <td>8.326759</td>\n",
       "    </tr>\n",
       "    <tr>\n",
       "      <th>110</th>\n",
       "      <td>10.002474</td>\n",
       "      <td>10.037193</td>\n",
       "      <td>10.115542</td>\n",
       "      <td>10.222448</td>\n",
       "      <td>10.479928</td>\n",
       "      <td>10.816128</td>\n",
       "      <td>11.962609</td>\n",
       "    </tr>\n",
       "  </tbody>\n",
       "</table>\n",
       "</div>"
      ],
      "text/plain": [
       "           30         60         90         120        180        252  \\\n",
       "90    0.000872   0.018887   0.068022   0.141990   0.334530   0.600841   \n",
       "95    0.081166   0.302371   0.546020   0.783262   1.226298   1.705188   \n",
       "100   1.294761   1.834119   2.250046   2.599173   3.185366   3.770786   \n",
       "105   5.101202   5.353158   5.621918   5.880011   6.357161   6.869082   \n",
       "110  10.002474  10.037193  10.115542  10.222448  10.479928  10.816128   \n",
       "\n",
       "           504  \n",
       "90    1.559487  \n",
       "95    3.078051  \n",
       "100   5.334092  \n",
       "105   8.326759  \n",
       "110  11.962609  "
      ]
     },
     "execution_count": 23,
     "metadata": {},
     "output_type": "execute_result"
    }
   ],
   "source": [
    "p = garch.price(strike, spot, texp, cp=-1)\n",
    "pd.DataFrame(data=p,columns=np.int64(np.around(texp*252)),index=strike)"
   ]
  },
  {
   "cell_type": "markdown",
   "metadata": {},
   "source": [
    "#### 2.1.2 Approximation exact simulation of Garch"
   ]
  },
  {
   "cell_type": "code",
   "execution_count": 24,
   "metadata": {},
   "outputs": [
    {
     "data": {
      "text/html": [
       "<div>\n",
       "<style scoped>\n",
       "    .dataframe tbody tr th:only-of-type {\n",
       "        vertical-align: middle;\n",
       "    }\n",
       "\n",
       "    .dataframe tbody tr th {\n",
       "        vertical-align: top;\n",
       "    }\n",
       "\n",
       "    .dataframe thead th {\n",
       "        text-align: right;\n",
       "    }\n",
       "</style>\n",
       "<table border=\"1\" class=\"dataframe\">\n",
       "  <thead>\n",
       "    <tr style=\"text-align: right;\">\n",
       "      <th></th>\n",
       "      <th>30</th>\n",
       "      <th>60</th>\n",
       "      <th>90</th>\n",
       "      <th>120</th>\n",
       "      <th>180</th>\n",
       "      <th>252</th>\n",
       "      <th>504</th>\n",
       "    </tr>\n",
       "  </thead>\n",
       "  <tbody>\n",
       "    <tr>\n",
       "      <th>90</th>\n",
       "      <td>0.0008</td>\n",
       "      <td>0.0184</td>\n",
       "      <td>0.0664</td>\n",
       "      <td>0.1393</td>\n",
       "      <td>0.3294</td>\n",
       "      <td>0.5928</td>\n",
       "      <td>1.5438</td>\n",
       "    </tr>\n",
       "    <tr>\n",
       "      <th>95</th>\n",
       "      <td>0.0800</td>\n",
       "      <td>0.2993</td>\n",
       "      <td>0.5401</td>\n",
       "      <td>0.7760</td>\n",
       "      <td>1.2161</td>\n",
       "      <td>1.6919</td>\n",
       "      <td>3.0577</td>\n",
       "    </tr>\n",
       "    <tr>\n",
       "      <th>100</th>\n",
       "      <td>1.2921</td>\n",
       "      <td>1.8284</td>\n",
       "      <td>2.2411</td>\n",
       "      <td>2.5890</td>\n",
       "      <td>3.1725</td>\n",
       "      <td>3.7550</td>\n",
       "      <td>5.3116</td>\n",
       "    </tr>\n",
       "    <tr>\n",
       "      <th>105</th>\n",
       "      <td>5.0999</td>\n",
       "      <td>5.3497</td>\n",
       "      <td>5.6155</td>\n",
       "      <td>5.8721</td>\n",
       "      <td>6.3462</td>\n",
       "      <td>6.8550</td>\n",
       "      <td>8.3052</td>\n",
       "    </tr>\n",
       "    <tr>\n",
       "      <th>110</th>\n",
       "      <td>10.0023</td>\n",
       "      <td>10.0363</td>\n",
       "      <td>10.1131</td>\n",
       "      <td>10.2187</td>\n",
       "      <td>10.4733</td>\n",
       "      <td>10.8062</td>\n",
       "      <td>11.9443</td>\n",
       "    </tr>\n",
       "  </tbody>\n",
       "</table>\n",
       "</div>"
      ],
      "text/plain": [
       "         30       60       90       120      180      252      504\n",
       "90    0.0008   0.0184   0.0664   0.1393   0.3294   0.5928   1.5438\n",
       "95    0.0800   0.2993   0.5401   0.7760   1.2161   1.6919   3.0577\n",
       "100   1.2921   1.8284   2.2411   2.5890   3.1725   3.7550   5.3116\n",
       "105   5.0999   5.3497   5.6155   5.8721   6.3462   6.8550   8.3052\n",
       "110  10.0023  10.0363  10.1131  10.2187  10.4733  10.8062  11.9443"
      ]
     },
     "execution_count": 24,
     "metadata": {},
     "output_type": "execute_result"
    }
   ],
   "source": [
    "d1 = [0.0008, 0.0184, 0.0664, 0.1393, 0.3294, 0.5928, 1.5438]\n",
    "d2 = [0.0800, 0.2993, 0.5401, 0.7760, 1.2161, 1.6919, 3.0577]\n",
    "d3 = [1.2921, 1.8284, 2.2411, 2.5890, 3.1725, 3.7550, 5.3116 ]\n",
    "d4 = [5.0999, 5.3497, 5.6155, 5.8721, 6.3462, 6.8550, 8.3052]\n",
    "d5 = [10.0023, 10.0363, 10.1131, 10.2187, 10.4733, 10.8062, 11.9443]\n",
    "d = np.array([d1,d2,d3,d4,d5])\n",
    "pd.DataFrame(data=d,columns=np.int64(np.around(texp*252)),index=strike)"
   ]
  },
  {
   "cell_type": "markdown",
   "metadata": {},
   "source": [
    "#### 2.1.3 Difference between CondMC and Approximation exact"
   ]
  },
  {
   "cell_type": "code",
   "execution_count": 25,
   "metadata": {},
   "outputs": [
    {
     "data": {
      "text/html": [
       "<div>\n",
       "<style scoped>\n",
       "    .dataframe tbody tr th:only-of-type {\n",
       "        vertical-align: middle;\n",
       "    }\n",
       "\n",
       "    .dataframe tbody tr th {\n",
       "        vertical-align: top;\n",
       "    }\n",
       "\n",
       "    .dataframe thead th {\n",
       "        text-align: right;\n",
       "    }\n",
       "</style>\n",
       "<table border=\"1\" class=\"dataframe\">\n",
       "  <thead>\n",
       "    <tr style=\"text-align: right;\">\n",
       "      <th></th>\n",
       "      <th>30</th>\n",
       "      <th>60</th>\n",
       "      <th>90</th>\n",
       "      <th>120</th>\n",
       "      <th>180</th>\n",
       "      <th>252</th>\n",
       "      <th>504</th>\n",
       "    </tr>\n",
       "  </thead>\n",
       "  <tbody>\n",
       "    <tr>\n",
       "      <th>90</th>\n",
       "      <td>0.000072</td>\n",
       "      <td>0.000487</td>\n",
       "      <td>0.001622</td>\n",
       "      <td>0.002690</td>\n",
       "      <td>0.005130</td>\n",
       "      <td>0.008041</td>\n",
       "      <td>0.015687</td>\n",
       "    </tr>\n",
       "    <tr>\n",
       "      <th>95</th>\n",
       "      <td>0.001166</td>\n",
       "      <td>0.003071</td>\n",
       "      <td>0.005920</td>\n",
       "      <td>0.007262</td>\n",
       "      <td>0.010198</td>\n",
       "      <td>0.013288</td>\n",
       "      <td>0.020351</td>\n",
       "    </tr>\n",
       "    <tr>\n",
       "      <th>100</th>\n",
       "      <td>0.002661</td>\n",
       "      <td>0.005719</td>\n",
       "      <td>0.008946</td>\n",
       "      <td>0.010173</td>\n",
       "      <td>0.012866</td>\n",
       "      <td>0.015786</td>\n",
       "      <td>0.022492</td>\n",
       "    </tr>\n",
       "    <tr>\n",
       "      <th>105</th>\n",
       "      <td>0.001302</td>\n",
       "      <td>0.003458</td>\n",
       "      <td>0.006418</td>\n",
       "      <td>0.007911</td>\n",
       "      <td>0.010961</td>\n",
       "      <td>0.014082</td>\n",
       "      <td>0.021559</td>\n",
       "    </tr>\n",
       "    <tr>\n",
       "      <th>110</th>\n",
       "      <td>0.000174</td>\n",
       "      <td>0.000893</td>\n",
       "      <td>0.002442</td>\n",
       "      <td>0.003748</td>\n",
       "      <td>0.006628</td>\n",
       "      <td>0.009928</td>\n",
       "      <td>0.018309</td>\n",
       "    </tr>\n",
       "  </tbody>\n",
       "</table>\n",
       "</div>"
      ],
      "text/plain": [
       "          30        60        90        120       180       252       504\n",
       "90   0.000072  0.000487  0.001622  0.002690  0.005130  0.008041  0.015687\n",
       "95   0.001166  0.003071  0.005920  0.007262  0.010198  0.013288  0.020351\n",
       "100  0.002661  0.005719  0.008946  0.010173  0.012866  0.015786  0.022492\n",
       "105  0.001302  0.003458  0.006418  0.007911  0.010961  0.014082  0.021559\n",
       "110  0.000174  0.000893  0.002442  0.003748  0.006628  0.009928  0.018309"
      ]
     },
     "execution_count": 25,
     "metadata": {},
     "output_type": "execute_result"
    }
   ],
   "source": [
    "pd.DataFrame(data=(p-d),columns=np.int64(np.around(texp*252)),index=strike)"
   ]
  },
  {
   "cell_type": "markdown",
   "metadata": {},
   "source": [
    "## 2.2 Test sample 2"
   ]
  },
  {
   "cell_type": "code",
   "execution_count": 26,
   "metadata": {},
   "outputs": [],
   "source": [
    "#### 2.1.1 Conditional MC of Garch\n",
    "c_1=0.53\n",
    "c_2=29.23\n",
    "c_3=3.65\n",
    "\n",
    "rho=0 # correlation between volatility and asset price\n",
    "mr=c_2\n",
    "vov=c_3\n",
    "theta_ratio=1.0\n",
    "sigma=np.sqrt(c_1/c_2) # start-up volatility\n",
    "intr=0.0 # risk-free interest rate\n",
    "divr=0.0 # dividend rate\n",
    "strike=np.arange(90,115,5) # strike price\n",
    "spot=100 # spot asset price\n",
    "texp=1/252*np.array([30,60,90,120,180,252,504]) # time to maturity\n",
    "\n",
    "garch = pf.GarchCondMC(sigma=sigma, vov=vov, rho=rho, mr=mr, theta=c_1/c_2)\n",
    "garch.set_mc_params(dt=0.01, n_path=100000,rn_seed=123456)"
   ]
  },
  {
   "cell_type": "markdown",
   "metadata": {},
   "source": [
    "#### 2.2.1 Conditional MC of Garch"
   ]
  },
  {
   "cell_type": "code",
   "execution_count": 27,
   "metadata": {},
   "outputs": [
    {
     "data": {
      "text/html": [
       "<div>\n",
       "<style scoped>\n",
       "    .dataframe tbody tr th:only-of-type {\n",
       "        vertical-align: middle;\n",
       "    }\n",
       "\n",
       "    .dataframe tbody tr th {\n",
       "        vertical-align: top;\n",
       "    }\n",
       "\n",
       "    .dataframe thead th {\n",
       "        text-align: right;\n",
       "    }\n",
       "</style>\n",
       "<table border=\"1\" class=\"dataframe\">\n",
       "  <thead>\n",
       "    <tr style=\"text-align: right;\">\n",
       "      <th></th>\n",
       "      <th>30</th>\n",
       "      <th>60</th>\n",
       "      <th>90</th>\n",
       "      <th>120</th>\n",
       "      <th>180</th>\n",
       "      <th>252</th>\n",
       "      <th>504</th>\n",
       "    </tr>\n",
       "  </thead>\n",
       "  <tbody>\n",
       "    <tr>\n",
       "      <th>90</th>\n",
       "      <td>0.026253</td>\n",
       "      <td>0.162813</td>\n",
       "      <td>0.369707</td>\n",
       "      <td>0.601750</td>\n",
       "      <td>1.085551</td>\n",
       "      <td>1.652406</td>\n",
       "      <td>3.395680</td>\n",
       "    </tr>\n",
       "    <tr>\n",
       "      <th>95</th>\n",
       "      <td>0.322887</td>\n",
       "      <td>0.821210</td>\n",
       "      <td>1.282721</td>\n",
       "      <td>1.697724</td>\n",
       "      <td>2.432313</td>\n",
       "      <td>3.194693</td>\n",
       "      <td>5.295936</td>\n",
       "    </tr>\n",
       "    <tr>\n",
       "      <th>100</th>\n",
       "      <td>1.858105</td>\n",
       "      <td>2.644577</td>\n",
       "      <td>3.251536</td>\n",
       "      <td>3.758649</td>\n",
       "      <td>4.610641</td>\n",
       "      <td>5.461448</td>\n",
       "      <td>7.727594</td>\n",
       "    </tr>\n",
       "    <tr>\n",
       "      <th>105</th>\n",
       "      <td>5.375157</td>\n",
       "      <td>5.920522</td>\n",
       "      <td>6.417247</td>\n",
       "      <td>6.860844</td>\n",
       "      <td>7.642178</td>\n",
       "      <td>8.450116</td>\n",
       "      <td>10.669692</td>\n",
       "    </tr>\n",
       "    <tr>\n",
       "      <th>110</th>\n",
       "      <td>10.047842</td>\n",
       "      <td>10.249031</td>\n",
       "      <td>10.523241</td>\n",
       "      <td>10.815636</td>\n",
       "      <td>11.402300</td>\n",
       "      <td>12.070355</td>\n",
       "      <td>14.072077</td>\n",
       "    </tr>\n",
       "  </tbody>\n",
       "</table>\n",
       "</div>"
      ],
      "text/plain": [
       "           30         60         90         120        180        252  \\\n",
       "90    0.026253   0.162813   0.369707   0.601750   1.085551   1.652406   \n",
       "95    0.322887   0.821210   1.282721   1.697724   2.432313   3.194693   \n",
       "100   1.858105   2.644577   3.251536   3.758649   4.610641   5.461448   \n",
       "105   5.375157   5.920522   6.417247   6.860844   7.642178   8.450116   \n",
       "110  10.047842  10.249031  10.523241  10.815636  11.402300  12.070355   \n",
       "\n",
       "           504  \n",
       "90    3.395680  \n",
       "95    5.295936  \n",
       "100   7.727594  \n",
       "105  10.669692  \n",
       "110  14.072077  "
      ]
     },
     "execution_count": 27,
     "metadata": {},
     "output_type": "execute_result"
    }
   ],
   "source": [
    "p = garch.price(strike, spot, texp, cp=-1)\n",
    "pd.DataFrame(data=p,columns=np.int64(np.around(texp*252)),index=strike)"
   ]
  },
  {
   "cell_type": "markdown",
   "metadata": {},
   "source": [
    "#### 2.2.2 Approximation exact simulation of Garch"
   ]
  },
  {
   "cell_type": "code",
   "execution_count": 28,
   "metadata": {},
   "outputs": [
    {
     "data": {
      "text/html": [
       "<div>\n",
       "<style scoped>\n",
       "    .dataframe tbody tr th:only-of-type {\n",
       "        vertical-align: middle;\n",
       "    }\n",
       "\n",
       "    .dataframe tbody tr th {\n",
       "        vertical-align: top;\n",
       "    }\n",
       "\n",
       "    .dataframe thead th {\n",
       "        text-align: right;\n",
       "    }\n",
       "</style>\n",
       "<table border=\"1\" class=\"dataframe\">\n",
       "  <thead>\n",
       "    <tr style=\"text-align: right;\">\n",
       "      <th></th>\n",
       "      <th>30</th>\n",
       "      <th>60</th>\n",
       "      <th>90</th>\n",
       "      <th>120</th>\n",
       "      <th>180</th>\n",
       "      <th>252</th>\n",
       "      <th>504</th>\n",
       "    </tr>\n",
       "  </thead>\n",
       "  <tbody>\n",
       "    <tr>\n",
       "      <th>90</th>\n",
       "      <td>0.0236</td>\n",
       "      <td>0.1508</td>\n",
       "      <td>0.3449</td>\n",
       "      <td>0.5668</td>\n",
       "      <td>1.0310</td>\n",
       "      <td>1.5777</td>\n",
       "      <td>3.2715</td>\n",
       "    </tr>\n",
       "    <tr>\n",
       "      <th>95</th>\n",
       "      <td>0.3093</td>\n",
       "      <td>0.7899</td>\n",
       "      <td>1.2348</td>\n",
       "      <td>1.6394</td>\n",
       "      <td>2.3550</td>\n",
       "      <td>3.0980</td>\n",
       "      <td>5.1528</td>\n",
       "    </tr>\n",
       "    <tr>\n",
       "      <th>100</th>\n",
       "      <td>1.8344</td>\n",
       "      <td>2.6014</td>\n",
       "      <td>3.1915</td>\n",
       "      <td>3.6891</td>\n",
       "      <td>4.5229</td>\n",
       "      <td>5.3549</td>\n",
       "      <td>7.5754</td>\n",
       "    </tr>\n",
       "    <tr>\n",
       "      <th>105</th>\n",
       "      <td>5.3602</td>\n",
       "      <td>5.8867</td>\n",
       "      <td>6.3659</td>\n",
       "      <td>6.7987</td>\n",
       "      <td>7.5601</td>\n",
       "      <td>8.3478</td>\n",
       "      <td>10.5187</td>\n",
       "    </tr>\n",
       "    <tr>\n",
       "      <th>110</th>\n",
       "      <td>10.0436</td>\n",
       "      <td>10.2325</td>\n",
       "      <td>10.4914</td>\n",
       "      <td>10.7723</td>\n",
       "      <td>11.3372</td>\n",
       "      <td>11.9831</td>\n",
       "      <td>13.9310</td>\n",
       "    </tr>\n",
       "  </tbody>\n",
       "</table>\n",
       "</div>"
      ],
      "text/plain": [
       "         30       60       90       120      180      252      504\n",
       "90    0.0236   0.1508   0.3449   0.5668   1.0310   1.5777   3.2715\n",
       "95    0.3093   0.7899   1.2348   1.6394   2.3550   3.0980   5.1528\n",
       "100   1.8344   2.6014   3.1915   3.6891   4.5229   5.3549   7.5754\n",
       "105   5.3602   5.8867   6.3659   6.7987   7.5601   8.3478  10.5187\n",
       "110  10.0436  10.2325  10.4914  10.7723  11.3372  11.9831  13.9310"
      ]
     },
     "execution_count": 28,
     "metadata": {},
     "output_type": "execute_result"
    }
   ],
   "source": [
    "d1 = [0.0236, 0.1508, 0.3449, 0.5668, 1.0310, 1.5777, 3.2715]\n",
    "d2 = [0.3093, 0.7899, 1.2348, 1.6394, 2.3550, 3.0980, 5.1528]\n",
    "d3 = [1.8344, 2.6014, 3.1915, 3.6891, 4.5229, 5.3549, 7.5754]\n",
    "d4 = [5.3602, 5.8867, 6.3659, 6.7987, 7.5601, 8.3478, 10.5187]\n",
    "d5 = [10.0436, 10.2325, 10.4914, 10.7723, 11.3372, 11.9831, 13.9310]\n",
    "d = np.array([d1,d2,d3,d4,d5])\n",
    "pd.DataFrame(data=d,columns=np.int64(np.around(texp*252)),index=strike)"
   ]
  },
  {
   "cell_type": "markdown",
   "metadata": {},
   "source": [
    "#### 2.2.3 Difference between CondMC and Approximation exact"
   ]
  },
  {
   "cell_type": "code",
   "execution_count": 29,
   "metadata": {},
   "outputs": [
    {
     "data": {
      "text/html": [
       "<div>\n",
       "<style scoped>\n",
       "    .dataframe tbody tr th:only-of-type {\n",
       "        vertical-align: middle;\n",
       "    }\n",
       "\n",
       "    .dataframe tbody tr th {\n",
       "        vertical-align: top;\n",
       "    }\n",
       "\n",
       "    .dataframe thead th {\n",
       "        text-align: right;\n",
       "    }\n",
       "</style>\n",
       "<table border=\"1\" class=\"dataframe\">\n",
       "  <thead>\n",
       "    <tr style=\"text-align: right;\">\n",
       "      <th></th>\n",
       "      <th>30</th>\n",
       "      <th>60</th>\n",
       "      <th>90</th>\n",
       "      <th>120</th>\n",
       "      <th>180</th>\n",
       "      <th>252</th>\n",
       "      <th>504</th>\n",
       "    </tr>\n",
       "  </thead>\n",
       "  <tbody>\n",
       "    <tr>\n",
       "      <th>90</th>\n",
       "      <td>0.002653</td>\n",
       "      <td>0.012013</td>\n",
       "      <td>0.024807</td>\n",
       "      <td>0.034950</td>\n",
       "      <td>0.054551</td>\n",
       "      <td>0.074706</td>\n",
       "      <td>0.124180</td>\n",
       "    </tr>\n",
       "    <tr>\n",
       "      <th>95</th>\n",
       "      <td>0.013587</td>\n",
       "      <td>0.031310</td>\n",
       "      <td>0.047921</td>\n",
       "      <td>0.058324</td>\n",
       "      <td>0.077313</td>\n",
       "      <td>0.096693</td>\n",
       "      <td>0.143136</td>\n",
       "    </tr>\n",
       "    <tr>\n",
       "      <th>100</th>\n",
       "      <td>0.023705</td>\n",
       "      <td>0.043177</td>\n",
       "      <td>0.060036</td>\n",
       "      <td>0.069549</td>\n",
       "      <td>0.087741</td>\n",
       "      <td>0.106548</td>\n",
       "      <td>0.152194</td>\n",
       "    </tr>\n",
       "    <tr>\n",
       "      <th>105</th>\n",
       "      <td>0.014957</td>\n",
       "      <td>0.033822</td>\n",
       "      <td>0.051347</td>\n",
       "      <td>0.062144</td>\n",
       "      <td>0.082078</td>\n",
       "      <td>0.102316</td>\n",
       "      <td>0.150992</td>\n",
       "    </tr>\n",
       "    <tr>\n",
       "      <th>110</th>\n",
       "      <td>0.004242</td>\n",
       "      <td>0.016531</td>\n",
       "      <td>0.031841</td>\n",
       "      <td>0.043336</td>\n",
       "      <td>0.065100</td>\n",
       "      <td>0.087255</td>\n",
       "      <td>0.141077</td>\n",
       "    </tr>\n",
       "  </tbody>\n",
       "</table>\n",
       "</div>"
      ],
      "text/plain": [
       "          30        60        90        120       180       252       504\n",
       "90   0.002653  0.012013  0.024807  0.034950  0.054551  0.074706  0.124180\n",
       "95   0.013587  0.031310  0.047921  0.058324  0.077313  0.096693  0.143136\n",
       "100  0.023705  0.043177  0.060036  0.069549  0.087741  0.106548  0.152194\n",
       "105  0.014957  0.033822  0.051347  0.062144  0.082078  0.102316  0.150992\n",
       "110  0.004242  0.016531  0.031841  0.043336  0.065100  0.087255  0.141077"
      ]
     },
     "execution_count": 29,
     "metadata": {},
     "output_type": "execute_result"
    }
   ],
   "source": [
    "pd.DataFrame(data=(p-d),columns=np.int64(np.around(texp*252)),index=strike)"
   ]
  },
  {
   "cell_type": "markdown",
   "metadata": {},
   "source": [
    "## 2.3 Test sample 3"
   ]
  },
  {
   "cell_type": "code",
   "execution_count": 30,
   "metadata": {},
   "outputs": [],
   "source": [
    "c_1=0.18\n",
    "c_2=2\n",
    "c_3=0.8\n",
    "\n",
    "rho=0 # correlation between volatility and asset price\n",
    "mr=c_2\n",
    "vov=c_3\n",
    "theta_ratio=1.0\n",
    "sigma=np.sqrt(c_1/c_2) # start-up volatility\n",
    "intr=0.0 # risk-free interest rate\n",
    "divr=0.0 # dividend rate\n",
    "strike=np.arange(90,115,5) # strike price\n",
    "spot=100 # spot asset price\n",
    "texp=1/252*np.array([30,60,90,120,180,252,504]) # time to maturity\n",
    "\n",
    "garch = pf.GarchCondMC(sigma=sigma, vov=vov, rho=rho, mr=mr, theta=c_1/c_2)\n",
    "garch.set_mc_params(dt=0.01, n_path=100000,rn_seed=123456)"
   ]
  },
  {
   "cell_type": "markdown",
   "metadata": {},
   "source": [
    "#### 2.3.1 Conditional MC of Garch"
   ]
  },
  {
   "cell_type": "code",
   "execution_count": 31,
   "metadata": {
    "scrolled": false
   },
   "outputs": [
    {
     "data": {
      "text/html": [
       "<div>\n",
       "<style scoped>\n",
       "    .dataframe tbody tr th:only-of-type {\n",
       "        vertical-align: middle;\n",
       "    }\n",
       "\n",
       "    .dataframe tbody tr th {\n",
       "        vertical-align: top;\n",
       "    }\n",
       "\n",
       "    .dataframe thead th {\n",
       "        text-align: right;\n",
       "    }\n",
       "</style>\n",
       "<table border=\"1\" class=\"dataframe\">\n",
       "  <thead>\n",
       "    <tr style=\"text-align: right;\">\n",
       "      <th></th>\n",
       "      <th>30</th>\n",
       "      <th>60</th>\n",
       "      <th>90</th>\n",
       "      <th>120</th>\n",
       "      <th>180</th>\n",
       "      <th>252</th>\n",
       "      <th>504</th>\n",
       "    </tr>\n",
       "  </thead>\n",
       "  <tbody>\n",
       "    <tr>\n",
       "      <th>90</th>\n",
       "      <td>0.791058</td>\n",
       "      <td>1.907102</td>\n",
       "      <td>2.902513</td>\n",
       "      <td>3.788398</td>\n",
       "      <td>5.340696</td>\n",
       "      <td>6.940731</td>\n",
       "      <td>11.349985</td>\n",
       "    </tr>\n",
       "    <tr>\n",
       "      <th>95</th>\n",
       "      <td>2.002076</td>\n",
       "      <td>3.513431</td>\n",
       "      <td>4.715297</td>\n",
       "      <td>5.736477</td>\n",
       "      <td>7.467570</td>\n",
       "      <td>9.208072</td>\n",
       "      <td>13.896539</td>\n",
       "    </tr>\n",
       "    <tr>\n",
       "      <th>100</th>\n",
       "      <td>4.117848</td>\n",
       "      <td>5.809192</td>\n",
       "      <td>7.106076</td>\n",
       "      <td>8.192086</td>\n",
       "      <td>10.014132</td>\n",
       "      <td>11.831895</td>\n",
       "      <td>16.693898</td>\n",
       "    </tr>\n",
       "    <tr>\n",
       "      <th>105</th>\n",
       "      <td>7.185103</td>\n",
       "      <td>8.787175</td>\n",
       "      <td>10.056790</td>\n",
       "      <td>11.134046</td>\n",
       "      <td>12.958400</td>\n",
       "      <td>14.791316</td>\n",
       "      <td>19.725393</td>\n",
       "    </tr>\n",
       "    <tr>\n",
       "      <th>110</th>\n",
       "      <td>11.048374</td>\n",
       "      <td>12.365451</td>\n",
       "      <td>13.508898</td>\n",
       "      <td>14.515425</td>\n",
       "      <td>16.265311</td>\n",
       "      <td>18.058402</td>\n",
       "      <td>22.973020</td>\n",
       "    </tr>\n",
       "  </tbody>\n",
       "</table>\n",
       "</div>"
      ],
      "text/plain": [
       "           30         60         90         120        180        252  \\\n",
       "90    0.791058   1.907102   2.902513   3.788398   5.340696   6.940731   \n",
       "95    2.002076   3.513431   4.715297   5.736477   7.467570   9.208072   \n",
       "100   4.117848   5.809192   7.106076   8.192086  10.014132  11.831895   \n",
       "105   7.185103   8.787175  10.056790  11.134046  12.958400  14.791316   \n",
       "110  11.048374  12.365451  13.508898  14.515425  16.265311  18.058402   \n",
       "\n",
       "           504  \n",
       "90   11.349985  \n",
       "95   13.896539  \n",
       "100  16.693898  \n",
       "105  19.725393  \n",
       "110  22.973020  "
      ]
     },
     "execution_count": 31,
     "metadata": {},
     "output_type": "execute_result"
    }
   ],
   "source": [
    "p = garch.price(strike, spot, texp, cp=-1)\n",
    "pd.DataFrame(data=p,columns=np.int64(np.around(texp*252)),index=strike)"
   ]
  },
  {
   "cell_type": "markdown",
   "metadata": {},
   "source": [
    "#### 2.3.2 Approximation exact simulation of Garch"
   ]
  },
  {
   "cell_type": "code",
   "execution_count": 32,
   "metadata": {},
   "outputs": [
    {
     "data": {
      "text/html": [
       "<div>\n",
       "<style scoped>\n",
       "    .dataframe tbody tr th:only-of-type {\n",
       "        vertical-align: middle;\n",
       "    }\n",
       "\n",
       "    .dataframe tbody tr th {\n",
       "        vertical-align: top;\n",
       "    }\n",
       "\n",
       "    .dataframe thead th {\n",
       "        text-align: right;\n",
       "    }\n",
       "</style>\n",
       "<table border=\"1\" class=\"dataframe\">\n",
       "  <thead>\n",
       "    <tr style=\"text-align: right;\">\n",
       "      <th></th>\n",
       "      <th>30</th>\n",
       "      <th>60</th>\n",
       "      <th>90</th>\n",
       "      <th>120</th>\n",
       "      <th>180</th>\n",
       "      <th>252</th>\n",
       "      <th>504</th>\n",
       "    </tr>\n",
       "  </thead>\n",
       "  <tbody>\n",
       "    <tr>\n",
       "      <th>90</th>\n",
       "      <td>0.7901</td>\n",
       "      <td>1.9061</td>\n",
       "      <td>2.8985</td>\n",
       "      <td>3.7858</td>\n",
       "      <td>5.3378</td>\n",
       "      <td>6.9387</td>\n",
       "      <td>11.3404</td>\n",
       "    </tr>\n",
       "    <tr>\n",
       "      <th>95</th>\n",
       "      <td>2.0011</td>\n",
       "      <td>3.5125</td>\n",
       "      <td>4.7109</td>\n",
       "      <td>5.7337</td>\n",
       "      <td>7.4645</td>\n",
       "      <td>9.2060</td>\n",
       "      <td>13.8865</td>\n",
       "    </tr>\n",
       "    <tr>\n",
       "      <th>100</th>\n",
       "      <td>4.1169</td>\n",
       "      <td>5.8083</td>\n",
       "      <td>7.1015</td>\n",
       "      <td>8.1892</td>\n",
       "      <td>10.0110</td>\n",
       "      <td>11.8297</td>\n",
       "      <td>16.6835</td>\n",
       "    </tr>\n",
       "    <tr>\n",
       "      <th>105</th>\n",
       "      <td>7.1841</td>\n",
       "      <td>8.7862</td>\n",
       "      <td>10.0522</td>\n",
       "      <td>11.1311</td>\n",
       "      <td>12.9552</td>\n",
       "      <td>14.7891</td>\n",
       "      <td>19.7148</td>\n",
       "    </tr>\n",
       "    <tr>\n",
       "      <th>110</th>\n",
       "      <td>11.0473</td>\n",
       "      <td>12.3644</td>\n",
       "      <td>13.5044</td>\n",
       "      <td>14.5125</td>\n",
       "      <td>16.2621</td>\n",
       "      <td>18.0562</td>\n",
       "      <td>22.9623</td>\n",
       "    </tr>\n",
       "  </tbody>\n",
       "</table>\n",
       "</div>"
      ],
      "text/plain": [
       "         30       60       90       120      180      252      504\n",
       "90    0.7901   1.9061   2.8985   3.7858   5.3378   6.9387  11.3404\n",
       "95    2.0011   3.5125   4.7109   5.7337   7.4645   9.2060  13.8865\n",
       "100   4.1169   5.8083   7.1015   8.1892  10.0110  11.8297  16.6835\n",
       "105   7.1841   8.7862  10.0522  11.1311  12.9552  14.7891  19.7148\n",
       "110  11.0473  12.3644  13.5044  14.5125  16.2621  18.0562  22.9623"
      ]
     },
     "execution_count": 32,
     "metadata": {},
     "output_type": "execute_result"
    }
   ],
   "source": [
    "d1 = [0.7901, 1.9061, 2.8985, 3.7858, 5.3378, 6.9387, 11.3404]\n",
    "d2 = [2.0011, 3.5125, 4.7109, 5.7337, 7.4645, 9.2060, 13.8865]\n",
    "d3 = [4.1169, 5.8083, 7.1015, 8.1892, 10.0110, 11.8297, 16.6835]\n",
    "d4 = [7.1841, 8.7862, 10.0522, 11.1311, 12.9552, 14.7891, 19.7148]\n",
    "d5 = [11.0473, 12.3644, 13.5044, 14.5125, 16.2621, 18.0562, 22.9623]\n",
    "d = np.array([d1,d2,d3,d4,d5])\n",
    "pd.DataFrame(data=d,columns=np.int64(np.around(texp*252)),index=strike)"
   ]
  },
  {
   "cell_type": "markdown",
   "metadata": {},
   "source": [
    "#### 2.3.3 Difference between CondMC and Approximation exact"
   ]
  },
  {
   "cell_type": "code",
   "execution_count": 33,
   "metadata": {},
   "outputs": [
    {
     "data": {
      "text/html": [
       "<div>\n",
       "<style scoped>\n",
       "    .dataframe tbody tr th:only-of-type {\n",
       "        vertical-align: middle;\n",
       "    }\n",
       "\n",
       "    .dataframe tbody tr th {\n",
       "        vertical-align: top;\n",
       "    }\n",
       "\n",
       "    .dataframe thead th {\n",
       "        text-align: right;\n",
       "    }\n",
       "</style>\n",
       "<table border=\"1\" class=\"dataframe\">\n",
       "  <thead>\n",
       "    <tr style=\"text-align: right;\">\n",
       "      <th></th>\n",
       "      <th>30</th>\n",
       "      <th>60</th>\n",
       "      <th>90</th>\n",
       "      <th>120</th>\n",
       "      <th>180</th>\n",
       "      <th>252</th>\n",
       "      <th>504</th>\n",
       "    </tr>\n",
       "  </thead>\n",
       "  <tbody>\n",
       "    <tr>\n",
       "      <th>90</th>\n",
       "      <td>0.000958</td>\n",
       "      <td>0.001002</td>\n",
       "      <td>0.004013</td>\n",
       "      <td>0.002598</td>\n",
       "      <td>0.002896</td>\n",
       "      <td>0.002031</td>\n",
       "      <td>0.009585</td>\n",
       "    </tr>\n",
       "    <tr>\n",
       "      <th>95</th>\n",
       "      <td>0.000976</td>\n",
       "      <td>0.000931</td>\n",
       "      <td>0.004397</td>\n",
       "      <td>0.002777</td>\n",
       "      <td>0.003070</td>\n",
       "      <td>0.002072</td>\n",
       "      <td>0.010039</td>\n",
       "    </tr>\n",
       "    <tr>\n",
       "      <th>100</th>\n",
       "      <td>0.000948</td>\n",
       "      <td>0.000892</td>\n",
       "      <td>0.004576</td>\n",
       "      <td>0.002886</td>\n",
       "      <td>0.003132</td>\n",
       "      <td>0.002195</td>\n",
       "      <td>0.010398</td>\n",
       "    </tr>\n",
       "    <tr>\n",
       "      <th>105</th>\n",
       "      <td>0.001003</td>\n",
       "      <td>0.000975</td>\n",
       "      <td>0.004590</td>\n",
       "      <td>0.002946</td>\n",
       "      <td>0.003200</td>\n",
       "      <td>0.002216</td>\n",
       "      <td>0.010593</td>\n",
       "    </tr>\n",
       "    <tr>\n",
       "      <th>110</th>\n",
       "      <td>0.001074</td>\n",
       "      <td>0.001051</td>\n",
       "      <td>0.004498</td>\n",
       "      <td>0.002925</td>\n",
       "      <td>0.003211</td>\n",
       "      <td>0.002202</td>\n",
       "      <td>0.010720</td>\n",
       "    </tr>\n",
       "  </tbody>\n",
       "</table>\n",
       "</div>"
      ],
      "text/plain": [
       "          30        60        90        120       180       252       504\n",
       "90   0.000958  0.001002  0.004013  0.002598  0.002896  0.002031  0.009585\n",
       "95   0.000976  0.000931  0.004397  0.002777  0.003070  0.002072  0.010039\n",
       "100  0.000948  0.000892  0.004576  0.002886  0.003132  0.002195  0.010398\n",
       "105  0.001003  0.000975  0.004590  0.002946  0.003200  0.002216  0.010593\n",
       "110  0.001074  0.001051  0.004498  0.002925  0.003211  0.002202  0.010720"
      ]
     },
     "execution_count": 33,
     "metadata": {},
     "output_type": "execute_result"
    }
   ],
   "source": [
    "pd.DataFrame(data=(p-d),columns=np.int64(np.around(texp*252)),index=strike)"
   ]
  },
  {
   "cell_type": "markdown",
   "metadata": {},
   "source": [
    "## Volatility Smile"
   ]
  },
  {
   "cell_type": "code",
   "execution_count": 34,
   "metadata": {},
   "outputs": [],
   "source": [
    "c_1=0.09\n",
    "c_2=4\n",
    "c_3=1.2\n",
    "\n",
    "rho=0 # correlation between volatility and asset price\n",
    "mr=c_2\n",
    "vov=c_3\n",
    "theta_ratio=1.0\n",
    "sigma=np.sqrt(c_1/c_2) # start-up volatility\n",
    "intr=0.0 # risk-free interest rate\n",
    "divr=0.0 # dividend rate\n",
    "strike=np.arange(90,111,1) # strike price\n",
    "spot=100 # spot asset price\n",
    "texp=1/252*np.array([30, 60, 90, 120]) # time to maturity\n",
    "\n",
    "garch = pf.GarchCondMC(sigma=sigma, vov=vov, rho=rho, mr=mr, theta=c_1/c_2)\n",
    "garch.set_mc_params(dt=0.02, n_path=1000000,rn_seed=123456)"
   ]
  },
  {
   "cell_type": "code",
   "execution_count": 35,
   "metadata": {},
   "outputs": [
    {
     "name": "stderr",
     "output_type": "stream",
     "text": [
      "100%|██████████████████████████████████████████████████████████████████████████████████| 21/21 [02:10<00:00,  6.23s/it]\n"
     ]
    }
   ],
   "source": [
    "impvol_1=np.zeros((len(strike),len(texp))) \n",
    "for i in tqdm(range(len(strike))):\n",
    "    for j in range(len(texp)):\n",
    "        impvol_1[i, j]=garch.vol_smile(strike[i], spot, texp[j], cp=-1)[0, 0]"
   ]
  },
  {
   "cell_type": "code",
   "execution_count": 36,
   "metadata": {},
   "outputs": [
    {
     "data": {
      "image/png": "[encoded data removed]",
      "text/plain": [
       "<Figure size 432x288 with 1 Axes>"
      ]
     },
     "metadata": {
      "needs_background": "light"
     },
     "output_type": "display_data"
    }
   ],
   "source": [
    "pd.DataFrame(data=impvol_1,columns=np.int64(np.around(texp*252)),index=strike).plot()\n",
    "plt.legend(loc=1)\n",
    "plt.grid(linestyle='--')"
   ]
  },
  {
   "cell_type": "code",
   "execution_count": 37,
   "metadata": {
    "scrolled": true
   },
   "outputs": [
    {
     "data": {
      "image/png": "[encoded data removed]",
      "text/plain": [
       "<Figure size 864x432 with 4 Axes>"
      ]
     },
     "metadata": {
      "needs_background": "light"
     },
     "output_type": "display_data"
    }
   ],
   "source": [
    "color = ['r', 'steelblue', 'g', 'orange']\n",
    "plt.figure(figsize=(12,6))\n",
    "for i in range(len(texp)):\n",
    "    plt.subplot(221+i)\n",
    "    plt.axis([90,110,0.148,0.153])\n",
    "    plt.plot(strike,impvol_1[:,i], c=color[i])\n",
    "    plt.ylabel('BSM Imp Vol')\n",
    "    plt.xlabel('Strike')\n",
    "    plt.title(str(int(round(252*texp[i])))+' days')\n",
    "    plt.tight_layout()\n",
    "    plt.grid(linestyle='--')\n",
    "plt.show()"
   ]
  },
  {
   "cell_type": "code",
   "execution_count": 38,
   "metadata": {},
   "outputs": [
    {
     "data": {
      "image/png": "[encoded data removed]",
      "text/plain": [
       "<Figure size 864x432 with 2 Axes>"
      ]
     },
     "metadata": {
      "needs_background": "light"
     },
     "output_type": "display_data"
    }
   ],
   "source": [
    "fig=plt.figure(figsize=(12,6))\n",
    "ax = fig.gca(projection='3d')\n",
    "surf=ax.plot_surface(strike.reshape(impvol_1.shape[0],1).repeat(impvol_1.shape[1],axis=1),(252*texp).reshape(1,impvol_1.shape[1]).repeat(impvol_1.shape[0],axis=0),impvol_1,cmap=cm.coolwarm)\n",
    "ax.set_zlabel('BSM Imp Vol')\n",
    "ax.set_ylabel('Maturity')\n",
    "ax.set_xlabel('Strikes')\n",
    "fig.colorbar(surf)\n",
    "plt.title('Implied volatility surfaces')\n",
    "plt.show()"
   ]
  },
  {
   "cell_type": "code",
   "execution_count": null,
   "metadata": {},
   "outputs": [],
   "source": []
  }
 ],
 "metadata": {
  "kernelspec": {
   "display_name": "Python 3",
   "language": "python",
   "name": "python3"
  },
  "language_info": {
   "codemirror_mode": {
    "name": "ipython",
    "version": 3
   },
   "file_extension": ".py",
   "mimetype": "text/x-python",
   "name": "python",
   "nbconvert_exporter": "python",
   "pygments_lexer": "ipython3",
   "version": "3.8.3"
  },
  "toc": {
   "base_numbering": 1,
   "nav_menu": {},
   "number_sections": false,
   "sideBar": true,
   "skip_h1_title": false,
   "title_cell": "Table of Contents",
   "title_sidebar": "Contents",
   "toc_cell": false,
   "toc_position": {
    "height": "calc(100% - 180px)",
    "left": "10px",
    "top": "150px",
    "width": "165px"
   },
   "toc_section_display": true,
   "toc_window_display": false
  }
 },
 "nbformat": 4,
 "nbformat_minor": 4
}
